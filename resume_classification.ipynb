{
  "nbformat": 4,
  "nbformat_minor": 0,
  "metadata": {
    "accelerator": "GPU",
    "colab": {
      "name": "resume classification.ipynb",
      "provenance": [],
      "collapsed_sections": []
    },
    "kernelspec": {
      "display_name": "Python 3",
      "name": "python3"
    }
  },
  "cells": [
    {
      "cell_type": "code",
      "metadata": {
        "id": "rj0skLO7hiQG"
      },
      "source": [
        "import pandas as pd\n",
        "import numpy as np\n"
      ],
      "execution_count": null,
      "outputs": []
    },
    {
      "cell_type": "code",
      "metadata": {
        "id": "TcnDI-_Nhj29"
      },
      "source": [
        "from pydrive.auth import  GoogleAuth\n",
        "from pydrive.drive import GoogleDrive\n",
        "from google.colab import auth\n",
        "from oauth2client.client import GoogleCredentials\n",
        "auth.authenticate_user()\n",
        "gauth = GoogleAuth()\n",
        "gauth.credentials = GoogleCredentials.get_application_default()\n",
        "drive = GoogleDrive(gauth)\n",
        "file_id=\"1nKtNmjTV1Hlf1vYhpX8A59b6SKJi79bp\"\n",
        "downloaded = drive.CreateFile({'id':file_id}) \n",
        "downloaded.GetContentFile('resume_data 2.csv') "
      ],
      "execution_count": null,
      "outputs": []
    },
    {
      "cell_type": "code",
      "metadata": {
        "id": "O7vlHl0ihj7a"
      },
      "source": [
        "df = pd.read_csv ('resume_data 2.csv')"
      ],
      "execution_count": null,
      "outputs": []
    },
    {
      "cell_type": "code",
      "metadata": {
        "colab": {
          "base_uri": "https://localhost:8080/",
          "height": 814
        },
        "id": "RKRiG4Thhj_n",
        "outputId": "7f0e536a-1eb8-4084-ded8-25e793961907"
      },
      "source": [
        "df"
      ],
      "execution_count": null,
      "outputs": [
        {
          "output_type": "execute_result",
          "data": {
            "text/html": [
              "<div>\n",
              "<style scoped>\n",
              "    .dataframe tbody tr th:only-of-type {\n",
              "        vertical-align: middle;\n",
              "    }\n",
              "\n",
              "    .dataframe tbody tr th {\n",
              "        vertical-align: top;\n",
              "    }\n",
              "\n",
              "    .dataframe thead th {\n",
              "        text-align: right;\n",
              "    }\n",
              "</style>\n",
              "<table border=\"1\" class=\"dataframe\">\n",
              "  <thead>\n",
              "    <tr style=\"text-align: right;\">\n",
              "      <th></th>\n",
              "      <th>Resume_title</th>\n",
              "      <th>City</th>\n",
              "      <th>State</th>\n",
              "      <th>Description</th>\n",
              "      <th>work_experiences</th>\n",
              "      <th>Educations</th>\n",
              "      <th>Skills</th>\n",
              "      <th>Links</th>\n",
              "      <th>Certificates</th>\n",
              "      <th>Additional Information</th>\n",
              "    </tr>\n",
              "  </thead>\n",
              "  <tbody>\n",
              "    <tr>\n",
              "      <th>0</th>\n",
              "      <td>Java Developer</td>\n",
              "      <td>Tirur</td>\n",
              "      <td>Kerala</td>\n",
              "      <td>To prove myself dedicated, worthy and energeti...</td>\n",
              "      <td>{0: [{'wtitle:': 'Java Developer'}, {'wcompany...</td>\n",
              "      <td>{0: [{'e_title:': \"Bachelor's in Bachelor of C...</td>\n",
              "      <td>['Java (Less than 1 year)', ' Jsp (Less than 1...</td>\n",
              "      <td>['https://www.linkedin.com/in/mohamed-rihan-k-...</td>\n",
              "      <td>{0: [{'c_title:': 'Java Developer'}, {'c_durat...</td>\n",
              "      <td>\\nTechnical Expertise \\n• Operating Systems: W...</td>\n",
              "    </tr>\n",
              "    <tr>\n",
              "      <th>1</th>\n",
              "      <td>Software Developer</td>\n",
              "      <td>Bengaluru</td>\n",
              "      <td>Karnataka</td>\n",
              "      <td>Working as Software Developer at IngroInfo Sof...</td>\n",
              "      <td>{0: [{'wtitle:': 'JAVA DEVELOPER'}, {'wcompany...</td>\n",
              "      <td>{0: [{'e_title:': 'MCA in Master of Computer A...</td>\n",
              "      <td>['Programming Languages: Core Java', ' J2EE \\n...</td>\n",
              "      <td>['http://github.com/NK-PATEL/Train_Project', '...</td>\n",
              "      <td>{}</td>\n",
              "      <td>NONE</td>\n",
              "    </tr>\n",
              "    <tr>\n",
              "      <th>2</th>\n",
              "      <td>Java developer</td>\n",
              "      <td>Pune</td>\n",
              "      <td>Maharashtra</td>\n",
              "      <td>Looking for a challenging career which demands...</td>\n",
              "      <td>{0: [{'wtitle:': 'Java Developer'}, {'wcompany...</td>\n",
              "      <td>{0: [{'e_title:': \"Bachelor's in Electrical En...</td>\n",
              "      <td>['ECLIPSE (1 year)', ' HIBERNATE', ' SPRING (L...</td>\n",
              "      <td>[]</td>\n",
              "      <td>{}</td>\n",
              "      <td>\\nTECHNICAL SKILLS \\n \\nFrameworks: Spring, Sp...</td>\n",
              "    </tr>\n",
              "    <tr>\n",
              "      <th>3</th>\n",
              "      <td>Seeking innovative and challenging career assi...</td>\n",
              "      <td>Pune</td>\n",
              "      <td>Maharashtra</td>\n",
              "      <td>NONE</td>\n",
              "      <td>{0: [{'wtitle:': 'Java Developer'}, {'wcompany...</td>\n",
              "      <td>{0: [{'e_title:': 'BE in Computer'}, {'e_schoo...</td>\n",
              "      <td>['GIT', ' Angular 7', ' MAVEN', ' Java', ' Jen...</td>\n",
              "      <td>[]</td>\n",
              "      <td>{}</td>\n",
              "      <td>NONE</td>\n",
              "    </tr>\n",
              "    <tr>\n",
              "      <th>4</th>\n",
              "      <td>NONE</td>\n",
              "      <td>Pune</td>\n",
              "      <td>Maharashtra</td>\n",
              "      <td>NONE</td>\n",
              "      <td>{0: [{'wtitle:': 'Java Developer'}, {'wcompany...</td>\n",
              "      <td>{0: [{'e_title:': 'Bachelor of Engineering in ...</td>\n",
              "      <td>['Project: HR Payroll Systems Role: Java Devel...</td>\n",
              "      <td>[]</td>\n",
              "      <td>{}</td>\n",
              "      <td>NONE</td>\n",
              "    </tr>\n",
              "    <tr>\n",
              "      <th>...</th>\n",
              "      <td>...</td>\n",
              "      <td>...</td>\n",
              "      <td>...</td>\n",
              "      <td>...</td>\n",
              "      <td>...</td>\n",
              "      <td>...</td>\n",
              "      <td>...</td>\n",
              "      <td>...</td>\n",
              "      <td>...</td>\n",
              "      <td>...</td>\n",
              "    </tr>\n",
              "    <tr>\n",
              "      <th>14799</th>\n",
              "      <td>Back Office Operations &amp; HR Coordinator</td>\n",
              "      <td>Calicut</td>\n",
              "      <td>Kerala</td>\n",
              "      <td>Management Professional seeking a full-time po...</td>\n",
              "      <td>{0: [{'wtitle:': 'Project Administration &amp; Pay...</td>\n",
              "      <td>{0: [{'e_title:': 'MBA in MARKETING &amp; HR'}, {'...</td>\n",
              "      <td>['MS OFFICE (9 years)', ' ACONEX PROJECT MANAG...</td>\n",
              "      <td>['http://www.linkedin.com/in/akhil-ravi-1512b6...</td>\n",
              "      <td>{0: [{'c_title:': 'ISO 9001:2018 QMS INTERNAL ...</td>\n",
              "      <td>\\nISO 9001:2015 QMS LLYOD REGISTER CERTIFIED \\...</td>\n",
              "    </tr>\n",
              "    <tr>\n",
              "      <th>14800</th>\n",
              "      <td>NONE</td>\n",
              "      <td>NONE</td>\n",
              "      <td>NONE</td>\n",
              "      <td>NONE</td>\n",
              "      <td>{0: [{'wtitle:': 'Accountant'}, {'wcompany:': ...</td>\n",
              "      <td>{0: [{'e_title:': 'B.COM'}, {'e_schoolname:': ...</td>\n",
              "      <td>['NONE']</td>\n",
              "      <td>[]</td>\n",
              "      <td>{}</td>\n",
              "      <td>\\nCOMPUTER PROFICIENCY \\n \\nApplications \\nAcc...</td>\n",
              "    </tr>\n",
              "    <tr>\n",
              "      <th>14801</th>\n",
              "      <td>NONE</td>\n",
              "      <td>Durgapur</td>\n",
              "      <td>West Bengal</td>\n",
              "      <td>To be potential resource to the organization w...</td>\n",
              "      <td>{0: [{'wtitle:': 'Administrative works'}, {'wc...</td>\n",
              "      <td>{0: [{'e_title:': 'CERTIFICATE'}, {'e_schoolna...</td>\n",
              "      <td>['ACCOUNTING', ' ERP', ' Tally', ' PAYROLL', '...</td>\n",
              "      <td>[]</td>\n",
              "      <td>{}</td>\n",
              "      <td>\\nYEAR OF \\nDEGREE/CERTIFICATE INSTITUTION % O...</td>\n",
              "    </tr>\n",
              "    <tr>\n",
              "      <th>14802</th>\n",
              "      <td>NONE</td>\n",
              "      <td>NONE</td>\n",
              "      <td>NONE</td>\n",
              "      <td>A finance professional with close to 6 years o...</td>\n",
              "      <td>{0: [{'wtitle:': 'Assistant Manger'}, {'wcompa...</td>\n",
              "      <td>{0: [{'e_title:': 'Bachelor of Commerce in Com...</td>\n",
              "      <td>['ERP (2 years)', ' Tally (5 years)', ' MS OFF...</td>\n",
              "      <td>[]</td>\n",
              "      <td>{}</td>\n",
              "      <td>\\nStrengths and Core Competencies \\n \\n• Knowl...</td>\n",
              "    </tr>\n",
              "    <tr>\n",
              "      <th>14803</th>\n",
              "      <td>NONE</td>\n",
              "      <td>Howrah</td>\n",
              "      <td>West Bengal</td>\n",
              "      <td>Age: 32 years \\nGender: Male \\nFunctional Area...</td>\n",
              "      <td>{0: [{'wtitle:': 'Commercial Officer'}, {'wcom...</td>\n",
              "      <td>{0: [{'e_title:': 'B.Com in Accountancy'}, {'e...</td>\n",
              "      <td>['ACCOUNTING', ' ECOMMERCE', ' MANAGEMENT ACCO...</td>\n",
              "      <td>[]</td>\n",
              "      <td>{}</td>\n",
              "      <td>\\nKey Skills \\n \\n➢ Good communication and lea...</td>\n",
              "    </tr>\n",
              "  </tbody>\n",
              "</table>\n",
              "<p>14804 rows × 10 columns</p>\n",
              "</div>"
            ],
            "text/plain": [
              "                                            Resume_title  ...                             Additional Information\n",
              "0                                         Java Developer  ...  \\nTechnical Expertise \\n• Operating Systems: W...\n",
              "1                                     Software Developer  ...                                               NONE\n",
              "2                                         Java developer  ...  \\nTECHNICAL SKILLS \\n \\nFrameworks: Spring, Sp...\n",
              "3      Seeking innovative and challenging career assi...  ...                                               NONE\n",
              "4                                                   NONE  ...                                               NONE\n",
              "...                                                  ...  ...                                                ...\n",
              "14799            Back Office Operations & HR Coordinator  ...  \\nISO 9001:2015 QMS LLYOD REGISTER CERTIFIED \\...\n",
              "14800                                               NONE  ...  \\nCOMPUTER PROFICIENCY \\n \\nApplications \\nAcc...\n",
              "14801                                               NONE  ...  \\nYEAR OF \\nDEGREE/CERTIFICATE INSTITUTION % O...\n",
              "14802                                               NONE  ...  \\nStrengths and Core Competencies \\n \\n• Knowl...\n",
              "14803                                               NONE  ...  \\nKey Skills \\n \\n➢ Good communication and lea...\n",
              "\n",
              "[14804 rows x 10 columns]"
            ]
          },
          "metadata": {
            "tags": []
          },
          "execution_count": 483
        }
      ]
    },
    {
      "cell_type": "code",
      "metadata": {
        "colab": {
          "base_uri": "https://localhost:8080/"
        },
        "id": "JOYAHtiohkDN",
        "outputId": "79235dbf-423f-46de-8ea9-830434cc3074"
      },
      "source": [
        "df.shape"
      ],
      "execution_count": null,
      "outputs": [
        {
          "output_type": "execute_result",
          "data": {
            "text/plain": [
              "(14804, 10)"
            ]
          },
          "metadata": {
            "tags": []
          },
          "execution_count": 484
        }
      ]
    },
    {
      "cell_type": "code",
      "metadata": {
        "colab": {
          "base_uri": "https://localhost:8080/"
        },
        "id": "hBltHR2nfAaq",
        "outputId": "1dead1b1-a0d5-4c0c-f79a-0d79dc769860"
      },
      "source": [
        "df.columns"
      ],
      "execution_count": null,
      "outputs": [
        {
          "output_type": "execute_result",
          "data": {
            "text/plain": [
              "Index(['Resume_title', 'City', 'State', 'Description', 'work_experiences',\n",
              "       'Educations', 'Skills', 'Links', 'Certificates',\n",
              "       'Additional Information'],\n",
              "      dtype='object')"
            ]
          },
          "metadata": {
            "tags": []
          },
          "execution_count": 485
        }
      ]
    },
    {
      "cell_type": "code",
      "metadata": {
        "colab": {
          "base_uri": "https://localhost:8080/"
        },
        "id": "bfTB0TovhkMm",
        "outputId": "2d899f26-ca6b-406a-a722-3780be57f3f6"
      },
      "source": [
        "df.dtypes\n"
      ],
      "execution_count": null,
      "outputs": [
        {
          "output_type": "execute_result",
          "data": {
            "text/plain": [
              "Resume_title              object\n",
              "City                      object\n",
              "State                     object\n",
              "Description               object\n",
              "work_experiences          object\n",
              "Educations                object\n",
              "Skills                    object\n",
              "Links                     object\n",
              "Certificates              object\n",
              "Additional Information    object\n",
              "dtype: object"
            ]
          },
          "metadata": {
            "tags": []
          },
          "execution_count": 486
        }
      ]
    },
    {
      "cell_type": "code",
      "metadata": {
        "colab": {
          "base_uri": "https://localhost:8080/"
        },
        "id": "g2MxXI0NhkRM",
        "outputId": "42df1324-1ac5-4e9e-ace3-cb82b45ce960"
      },
      "source": [
        "df.isna().sum()"
      ],
      "execution_count": null,
      "outputs": [
        {
          "output_type": "execute_result",
          "data": {
            "text/plain": [
              "Resume_title              4\n",
              "City                      4\n",
              "State                     4\n",
              "Description               4\n",
              "work_experiences          4\n",
              "Educations                6\n",
              "Skills                    6\n",
              "Links                     6\n",
              "Certificates              6\n",
              "Additional Information    6\n",
              "dtype: int64"
            ]
          },
          "metadata": {
            "tags": []
          },
          "execution_count": 487
        }
      ]
    },
    {
      "cell_type": "code",
      "metadata": {
        "colab": {
          "base_uri": "https://localhost:8080/"
        },
        "id": "vEkY2_FAhkVW",
        "outputId": "109525cc-9c4e-4625-baeb-c37f9ee7145e"
      },
      "source": [
        "df['Resume_title'].describe()"
      ],
      "execution_count": null,
      "outputs": [
        {
          "output_type": "execute_result",
          "data": {
            "text/plain": [
              "count     14800\n",
              "unique     3381\n",
              "top        NONE\n",
              "freq       8028\n",
              "Name: Resume_title, dtype: object"
            ]
          },
          "metadata": {
            "tags": []
          },
          "execution_count": 488
        }
      ]
    },
    {
      "cell_type": "code",
      "metadata": {
        "colab": {
          "base_uri": "https://localhost:8080/",
          "height": 34
        },
        "id": "LyUbZo0qOP2n",
        "outputId": "079e9b50-e9fb-41c7-8bcc-772389e57c50"
      },
      "source": [
        "df['Resume_title'][3]"
      ],
      "execution_count": null,
      "outputs": [
        {
          "output_type": "execute_result",
          "data": {
            "application/vnd.google.colaboratory.intrinsic+json": {
              "type": "string"
            },
            "text/plain": [
              "'Seeking innovative and challenging career assignment in an organisation.I possess high learning desire and capability, good presentation skills and thinking ability.'"
            ]
          },
          "metadata": {
            "tags": []
          },
          "execution_count": 489
        }
      ]
    },
    {
      "cell_type": "code",
      "metadata": {
        "colab": {
          "base_uri": "https://localhost:8080/"
        },
        "id": "o1qmXiznhkZN",
        "outputId": "0bad9d3d-5600-48ca-e348-e08423aaecdc"
      },
      "source": [
        "df['Resume_title'].value_counts()"
      ],
      "execution_count": null,
      "outputs": [
        {
          "output_type": "execute_result",
          "data": {
            "text/plain": [
              "NONE                                                                                                                                                                                                                8028\n",
              "PHP Developer                                                                                                                                                                                                        163\n",
              "Software Developer                                                                                                                                                                                                   158\n",
              "Python Developer                                                                                                                                                                                                     108\n",
              "Java Developer                                                                                                                                                                                                        99\n",
              "                                                                                                                                                                                                                    ... \n",
              "ETL Developer - HCL Technologies                                                                                                                                                                                       1\n",
              "backend developer                                                                                                                                                                                                      1\n",
              "Interested in python development and machine learning.Want to be part of an organisation where I can use my skills to the maximum potential, also contributing to the overall progress of the company.                 1\n",
              "BI Developer - Temenos AG                                                                                                                                                                                              1\n",
              "Aim to work in a challenging work environment where I can utilize my expertise in technical skills, towards the development and implementation of the new ideas, contributing to the growth of the organisation.       1\n",
              "Name: Resume_title, Length: 3381, dtype: int64"
            ]
          },
          "metadata": {
            "tags": []
          },
          "execution_count": 490
        }
      ]
    },
    {
      "cell_type": "code",
      "metadata": {
        "id": "nV-WfLGphkdd"
      },
      "source": [
        "df = df.replace(to_replace='NONE',value=np.nan).dropna()"
      ],
      "execution_count": null,
      "outputs": []
    },
    {
      "cell_type": "code",
      "metadata": {
        "colab": {
          "base_uri": "https://localhost:8080/"
        },
        "id": "v7fUvqxZhkhB",
        "outputId": "c08a6b09-7ab7-440d-d42e-746e91186f2d"
      },
      "source": [
        "df['Resume_title'].value_counts()"
      ],
      "execution_count": null,
      "outputs": [
        {
          "output_type": "execute_result",
          "data": {
            "text/plain": [
              "PHP Developer                                                                              75\n",
              "Software Developer                                                                         70\n",
              "Python Developer                                                                           50\n",
              "Web Developer                                                                              47\n",
              "Developer                                                                                  46\n",
              "                                                                                           ..\n",
              "Learning & Development Consultant / Program Manager                                         1\n",
              "Seeking a job in IT field                                                                   1\n",
              "Tech Lead (Robert Bosch - NSC & HEGN                                                        1\n",
              "Looking for the role of Data Analyst, Data Scientist, ML Engineer or Software Engineer.     1\n",
              "DVP - Chief Enterprise Architect & Digital strategy Transformation                          1\n",
              "Name: Resume_title, Length: 1749, dtype: int64"
            ]
          },
          "metadata": {
            "tags": []
          },
          "execution_count": 492
        }
      ]
    },
    {
      "cell_type": "code",
      "metadata": {
        "id": "lLTzSE9ZT8Jy"
      },
      "source": [
        "df.reset_index(drop=True, inplace=True)\n"
      ],
      "execution_count": null,
      "outputs": []
    },
    {
      "cell_type": "code",
      "metadata": {
        "colab": {
          "base_uri": "https://localhost:8080/"
        },
        "id": "oZfLLG8chklD",
        "outputId": "896b8e4e-bb89-4428-90af-6a8008812bf1"
      },
      "source": [
        "df.shape"
      ],
      "execution_count": null,
      "outputs": [
        {
          "output_type": "execute_result",
          "data": {
            "text/plain": [
              "(3282, 10)"
            ]
          },
          "metadata": {
            "tags": []
          },
          "execution_count": 494
        }
      ]
    },
    {
      "cell_type": "code",
      "metadata": {
        "id": "XSD0WuI6cEnO"
      },
      "source": [
        "for i in range(0,3282):\n",
        "      df['Resume_title'][i]=df['Resume_title'][i].lower()\n",
        "      split_string = df['Resume_title'][i].split(\"-\", 1)\n",
        "      df['Resume_title'][i] = split_string[0]\n",
        "      split_string1 = df['Resume_title'][i].split(\"as\", 1)\n",
        "      df['Resume_title'][i] = split_string1[0]\n",
        "      split_string2 = df['Resume_title'][i].split(\"with\", 1)\n",
        "      df['Resume_title'][i] = split_string2[0]\n",
        "      split_string3 = df['Resume_title'][i].split(\"|\", 1)\n",
        "      df['Resume_title'][i] = split_string3[0]\n",
        "      split_string4 = df['Resume_title'][i].split(\"/\", 1)\n",
        "      df['Resume_title'][i] = split_string3[0]\n",
        "      split_string4 = df['Resume_title'][i].split(\"at\", 1)\n",
        "      df['Resume_title'][i] = split_string4[0]\n",
        "      df['Resume_title'][i]=df['Resume_title'][i].replace(\"jr.\", \" \")\n",
        "      df['Resume_title'][i]=df['Resume_title'][i].replace(\"sr.\", \" \")\n",
        "      df['Resume_title'][i]=df['Resume_title'][i].replace(\"sr\", \" \")\n",
        "      df['Resume_title'][i]=df['Resume_title'][i].replace(\"jr\", \" \")\n",
        "      df['Resume_title'][i]=df['Resume_title'][i].replace(\"junior\", \" \")\n",
        "      df['Resume_title'][i]=df['Resume_title'][i].replace(\"senior\", \" \")\n",
        "      df['Resume_title'][i]=df['Resume_title'][i].replace(\"&\", \" \")\n",
        "\n",
        "      \n",
        "\n",
        "\n",
        "\n",
        "      \n"
      ],
      "execution_count": null,
      "outputs": []
    },
    {
      "cell_type": "code",
      "metadata": {
        "id": "Q3zIUUZ8Z0Cb"
      },
      "source": [
        "classe0=['intern']\n",
        "for i in range(0,3282):\n",
        "   for ele in classe0:\n",
        "       if ele in df['Resume_title'][i]:\n",
        "            df['Resume_title'][i] = 'internship'\n"
      ],
      "execution_count": null,
      "outputs": []
    },
    {
      "cell_type": "code",
      "metadata": {
        "id": "YwWBPhP9n56n"
      },
      "source": [
        "c1=['frontend developer','fullstack developer','full stack java developer', 'ui developer','backend developer','python backend web developer',\n",
        " 'backend development ','python django developer', 'full stack web developer','web designer','full stack  developer', 'full stack python django developer',\n",
        "  'graphic designer','web designer developer', 'front end developer','mean and full stack developer','html developer','php laravel devloper','php codeigniter',\n",
        "  'php web development','php web developer','php development','php freelancer','php programmer',\n",
        "         'php angular codeigniter','php developer on php mysql ', 'senior php developer','expert in developing responsive interactive websites ','uiux designer ',\n",
        "         'dot net developer','.net developer','.net core architect','net developer','.net web developer','magento and wordpress developer','react developer',\n",
        "'flutter developer', 'angular developer','j2ee developer ','laravel developer','python django developer','node developer',\n",
        " 'react js developer' ,'react native developer','nodejs developer','nodejs  software engineer ', 'react js developer.','react developer ',\n",
        "  'node.js developer','spring boot and micro services developer',\n",
        " 'backend development ','wordpress developer','angular & java developer','spring boot and micro services ','php developer', 'laraval','websphere commerce developer','python django developer','fullstack','web Developer']"
      ],
      "execution_count": null,
      "outputs": []
    },
    {
      "cell_type": "code",
      "metadata": {
        "id": "foJ6Wt7-o23Y"
      },
      "source": [
        "for i in range(0,3282):\n",
        "  for ele in c1:\n",
        "    if ele in df['Resume_title'][i]:\n",
        "         df['Resume_title'][i] = \"Web developement\"\n"
      ],
      "execution_count": null,
      "outputs": []
    },
    {
      "cell_type": "code",
      "metadata": {
        "colab": {
          "base_uri": "https://localhost:8080/",
          "height": 393
        },
        "id": "COrC7ia1HgsM",
        "outputId": "5f9b4f89-f238-4742-c075-f36bc2351dbd"
      },
      "source": [
        "df.head()"
      ],
      "execution_count": null,
      "outputs": [
        {
          "output_type": "execute_result",
          "data": {
            "text/html": [
              "<div>\n",
              "<style scoped>\n",
              "    .dataframe tbody tr th:only-of-type {\n",
              "        vertical-align: middle;\n",
              "    }\n",
              "\n",
              "    .dataframe tbody tr th {\n",
              "        vertical-align: top;\n",
              "    }\n",
              "\n",
              "    .dataframe thead th {\n",
              "        text-align: right;\n",
              "    }\n",
              "</style>\n",
              "<table border=\"1\" class=\"dataframe\">\n",
              "  <thead>\n",
              "    <tr style=\"text-align: right;\">\n",
              "      <th></th>\n",
              "      <th>Resume_title</th>\n",
              "      <th>City</th>\n",
              "      <th>State</th>\n",
              "      <th>Description</th>\n",
              "      <th>work_experiences</th>\n",
              "      <th>Educations</th>\n",
              "      <th>Skills</th>\n",
              "      <th>Links</th>\n",
              "      <th>Certificates</th>\n",
              "      <th>Additional Information</th>\n",
              "    </tr>\n",
              "  </thead>\n",
              "  <tbody>\n",
              "    <tr>\n",
              "      <th>0</th>\n",
              "      <td>java developer</td>\n",
              "      <td>Tirur</td>\n",
              "      <td>Kerala</td>\n",
              "      <td>To prove myself dedicated, worthy and energeti...</td>\n",
              "      <td>{0: [{'wtitle:': 'Java Developer'}, {'wcompany...</td>\n",
              "      <td>{0: [{'e_title:': \"Bachelor's in Bachelor of C...</td>\n",
              "      <td>['Java (Less than 1 year)', ' Jsp (Less than 1...</td>\n",
              "      <td>['https://www.linkedin.com/in/mohamed-rihan-k-...</td>\n",
              "      <td>{0: [{'c_title:': 'Java Developer'}, {'c_durat...</td>\n",
              "      <td>\\nTechnical Expertise \\n• Operating Systems: W...</td>\n",
              "    </tr>\n",
              "    <tr>\n",
              "      <th>1</th>\n",
              "      <td>java developer</td>\n",
              "      <td>Pune</td>\n",
              "      <td>Maharashtra</td>\n",
              "      <td>Looking for a challenging career which demands...</td>\n",
              "      <td>{0: [{'wtitle:': 'Java Developer'}, {'wcompany...</td>\n",
              "      <td>{0: [{'e_title:': \"Bachelor's in Electrical En...</td>\n",
              "      <td>['ECLIPSE (1 year)', ' HIBERNATE', ' SPRING (L...</td>\n",
              "      <td>[]</td>\n",
              "      <td>{}</td>\n",
              "      <td>\\nTECHNICAL SKILLS \\n \\nFrameworks: Spring, Sp...</td>\n",
              "    </tr>\n",
              "    <tr>\n",
              "      <th>2</th>\n",
              "      <td>java developer</td>\n",
              "      <td>Pune</td>\n",
              "      <td>Maharashtra</td>\n",
              "      <td>Attain the position of 'Java Developer' in fas...</td>\n",
              "      <td>{0: [{'wtitle:': 'Java Developer'}, {'wcompany...</td>\n",
              "      <td>{0: [{'e_title:': 'BTECH in IT in Nanded'}, {'...</td>\n",
              "      <td>['ECLIPSE', ' JAVA', ' SPRING', ' HTML', ' JAV...</td>\n",
              "      <td>[]</td>\n",
              "      <td>{}</td>\n",
              "      <td>\\nTECHNICAL SKILLS: \\n• Programming Languages:...</td>\n",
              "    </tr>\n",
              "    <tr>\n",
              "      <th>3</th>\n",
              "      <td>java developer</td>\n",
              "      <td>Hyderabad</td>\n",
              "      <td>Telangana</td>\n",
              "      <td>• Knowledgeable with Core Java implementation ...</td>\n",
              "      <td>{0: [{'wtitle:': 'Java Developer'}, {'wcompany...</td>\n",
              "      <td>{0: [{'e_title:': 'MCA in Computers'}, {'e_sch...</td>\n",
              "      <td>['Web Services', ' Html', ' J2Ee', ' Jquery', ...</td>\n",
              "      <td>[]</td>\n",
              "      <td>{}</td>\n",
              "      <td>\\n• Operating Systems: Windows 7, 8, 10 \\n• We...</td>\n",
              "    </tr>\n",
              "    <tr>\n",
              "      <th>4</th>\n",
              "      <td>Web developement</td>\n",
              "      <td>Hyderabad</td>\n",
              "      <td>Telangana</td>\n",
              "      <td>Skilled Java Developer with 5 years of experie...</td>\n",
              "      <td>{0: [{'wtitle:': 'Java Developer'}, {'wcompany...</td>\n",
              "      <td>{0: [{'e_title:': \"Master's Degree in Computer...</td>\n",
              "      <td>['JAVA', ' VISUAL STUDIO', ' HTML', ' JAVASCRI...</td>\n",
              "      <td>['http://www.linkedin.com/in/vanitha-karnati-7...</td>\n",
              "      <td>{}</td>\n",
              "      <td>\\nSkills \\n• C, JAVA \\n• Basic and advanced HT...</td>\n",
              "    </tr>\n",
              "  </tbody>\n",
              "</table>\n",
              "</div>"
            ],
            "text/plain": [
              "       Resume_title  ...                             Additional Information\n",
              "0    java developer  ...  \\nTechnical Expertise \\n• Operating Systems: W...\n",
              "1    java developer  ...  \\nTECHNICAL SKILLS \\n \\nFrameworks: Spring, Sp...\n",
              "2    java developer  ...  \\nTECHNICAL SKILLS: \\n• Programming Languages:...\n",
              "3    java developer  ...  \\n• Operating Systems: Windows 7, 8, 10 \\n• We...\n",
              "4  Web developement  ...  \\nSkills \\n• C, JAVA \\n• Basic and advanced HT...\n",
              "\n",
              "[5 rows x 10 columns]"
            ]
          },
          "metadata": {
            "tags": []
          },
          "execution_count": 499
        }
      ]
    },
    {
      "cell_type": "code",
      "metadata": {
        "colab": {
          "base_uri": "https://localhost:8080/",
          "height": 69
        },
        "id": "ctbxmLeRG91r",
        "outputId": "bfdd8d95-9917-45a1-a1c4-9f2ddd062139"
      },
      "source": [
        "df['Additional Information'][4]"
      ],
      "execution_count": null,
      "outputs": [
        {
          "output_type": "execute_result",
          "data": {
            "application/vnd.google.colaboratory.intrinsic+json": {
              "type": "string"
            },
            "text/plain": [
              "'\\nSkills \\n• C, JAVA \\n• Basic and advanced HTML, CSS, Javascript \\n• Frameworks, Web Technologies, Methodologies \\n• Maintaining applications \\n• Operating Systems, Version Control \\n \\n• Troubleshooting, Delivery, Self-starter \\n• Conceptual understanding \\n• Application design, Updating software \\n• Code reviews, Planning, Teamwork \\n• Visual Studio, React Web framework, Virtual Machine'"
            ]
          },
          "metadata": {
            "tags": []
          },
          "execution_count": 500
        }
      ]
    },
    {
      "cell_type": "code",
      "metadata": {
        "colab": {
          "base_uri": "https://localhost:8080/"
        },
        "id": "OlKKCtGTqIEP",
        "outputId": "f629fd64-3703-48a8-fad8-a83686c87e9f"
      },
      "source": [
        "df['Resume_title'].value_counts()"
      ],
      "execution_count": null,
      "outputs": [
        {
          "output_type": "execute_result",
          "data": {
            "text/plain": [
              "Web developement                            599\n",
              "software developer                          122\n",
              "developer                                   113\n",
              "software developer                          110\n",
              "d                                            95\n",
              "                                           ... \n",
              "trainee in ios                                1\n",
              "lead engineer                                 1\n",
              "infoview                                      1\n",
              "auditor and accounts trainee                  1\n",
              "sql, plsql developer and unix developer       1\n",
              "Name: Resume_title, Length: 980, dtype: int64"
            ]
          },
          "metadata": {
            "tags": []
          },
          "execution_count": 501
        }
      ]
    },
    {
      "cell_type": "code",
      "metadata": {
        "id": "BiU-v_Zeu_iK"
      },
      "source": [
        "classe2=['java programmer','java developer','java']"
      ],
      "execution_count": null,
      "outputs": []
    },
    {
      "cell_type": "code",
      "metadata": {
        "id": "tXlEUXwFrPy3"
      },
      "source": [
        "for i in range(0,3282):\n",
        "  for ele in classe2:\n",
        "    if ele in df['Resume_title'][i]:\n",
        "         df['Resume_title'][i] = 'java'"
      ],
      "execution_count": null,
      "outputs": []
    },
    {
      "cell_type": "code",
      "metadata": {
        "colab": {
          "base_uri": "https://localhost:8080/"
        },
        "id": "-P3bFLgirUL5",
        "outputId": "b70029c9-52dd-40f7-e735-ff20220d1dee"
      },
      "source": [
        "df['Resume_title'].value_counts()"
      ],
      "execution_count": null,
      "outputs": [
        {
          "output_type": "execute_result",
          "data": {
            "text/plain": [
              "Web developement                   599\n",
              "java                               210\n",
              "software developer                 122\n",
              "developer                          113\n",
              "software developer                 110\n",
              "                                  ... \n",
              "teamcenter and devops developer      1\n",
              "b.tech it                            1\n",
              "sql server management studio         1\n",
              "freelancer projects                  1\n",
              "experienced developer                1\n",
              "Name: Resume_title, Length: 937, dtype: int64"
            ]
          },
          "metadata": {
            "tags": []
          },
          "execution_count": 504
        }
      ]
    },
    {
      "cell_type": "code",
      "metadata": {
        "id": "YYVXJoswwGXA"
      },
      "source": [
        "classe3=['pl sql developer', 'sql developer','plsql developer'\n",
        ",'oracle developer ', 'oracle pl','oracle plsql','pl sql developer','plsql','pl','oracle']"
      ],
      "execution_count": null,
      "outputs": []
    },
    {
      "cell_type": "code",
      "metadata": {
        "id": "DN9tJa1gFeTq"
      },
      "source": [
        "for i in range(0,3282):\n",
        "  for ele in classe3:\n",
        "    if ele in df['Resume_title'][i]:\n",
        "         df['Resume_title'][i] = 'sql'"
      ],
      "execution_count": null,
      "outputs": []
    },
    {
      "cell_type": "code",
      "metadata": {
        "colab": {
          "base_uri": "https://localhost:8080/"
        },
        "id": "4YPzN07cGdQn",
        "outputId": "96456fdb-a05a-43e8-ca1d-6d52dfbc483c"
      },
      "source": [
        "df['Resume_title'].value_counts()"
      ],
      "execution_count": null,
      "outputs": [
        {
          "output_type": "execute_result",
          "data": {
            "text/plain": [
              "Web developement             599\n",
              "java                         210\n",
              "software developer           122\n",
              "sql                          121\n",
              "developer                    113\n",
              "                            ... \n",
              "mainframes developer           1\n",
              "technical project manager      1\n",
              "solution engineer              1\n",
              "a se                           1\n",
              "experienced developer          1\n",
              "Name: Resume_title, Length: 868, dtype: int64"
            ]
          },
          "metadata": {
            "tags": []
          },
          "execution_count": 507
        }
      ]
    },
    {
      "cell_type": "code",
      "metadata": {
        "id": "Vw2G9Y9I-XJ-"
      },
      "source": [
        "classe4=['automation and cloud expert ','delivery manager ','aws developer','qa manager',\n",
        " 'quality service','evaluation engineer','aws and devops engineer','devops engineer'\n",
        " \n",
        " 'cloud consultant & developer ', 'product developer','testing engineer ','test specialist/test lead']"
      ],
      "execution_count": null,
      "outputs": []
    },
    {
      "cell_type": "code",
      "metadata": {
        "id": "pO5pd2kzFrB3"
      },
      "source": [
        "for i in range(0,3282):\n",
        "  for ele in classe4:\n",
        "    if ele in df['Resume_title'][i]:\n",
        "         df['Resume_title'][i] = 'cloud and quality service'"
      ],
      "execution_count": null,
      "outputs": []
    },
    {
      "cell_type": "code",
      "metadata": {
        "id": "xMZLV8x_-ieH"
      },
      "source": [
        "classe5=['android developer', 'ios developer ', 'xamarin mobile developer ','ios mobile application developer','android application developer ',\n",
        "\n",
        " 'ionic developer',\n",
        " 'ios and android app developer', 'android app developer', 'ios trainee developer ',\n",
        "\n",
        "\n",
        "]"
      ],
      "execution_count": null,
      "outputs": []
    },
    {
      "cell_type": "code",
      "metadata": {
        "id": "GNTkHcwaGko1"
      },
      "source": [
        "for i in range(0,3282):\n",
        "  for ele in classe5:\n",
        "    if ele in df['Resume_title'][i]:\n",
        "         df['Resume_title'][i] = 'mobile developement'"
      ],
      "execution_count": null,
      "outputs": []
    },
    {
      "cell_type": "code",
      "metadata": {
        "id": "wtvepAXL_E4-"
      },
      "source": [
        "classe6=['python developer and machine learning expert','artificial intelligence developer',\n",
        " 'ai engineer','data scientist','computer vision','artificial intelligence and deep learning','artificial intelligence and machine','data analyst ',\n",
        "  'artificial intelligence (ai) programmer ','machine learning, data science',\n",
        " 'machine learning engineer ', 'ai developer  ',' machine learning developer','deep learning developer ', 'mobile developer', 'data analyst','machine learning engineer','data science researcher ',\n",
        " 'data analyst and python developer','data analyst and machine learning developer ', 'data engineer', 'nlp expert' ,\n",
        " 'data analyst', 'data mining',\n",
        " 'data engineer ','bi','machine learning']"
      ],
      "execution_count": null,
      "outputs": []
    },
    {
      "cell_type": "code",
      "metadata": {
        "id": "sAr771nrGvUH"
      },
      "source": [
        "for i in range(0,3282):\n",
        "  for ele in classe6:\n",
        "    if ele in df['Resume_title'][i]:\n",
        "         df['Resume_title'][i] = 'artificial intelligence'"
      ],
      "execution_count": null,
      "outputs": []
    },
    {
      "cell_type": "code",
      "metadata": {
        "id": "KQK1fRqe_wRH"
      },
      "source": [
        "classe7=[ 'hadoop engineer', 'big data hadoop and spark developer ','big data engineer ','django developer',\n",
        " \n",
        " 'python and django devoloper','big data developer ','spark developer',\n",
        " 'big data , hadoop developer',\n",
        " \n",
        " \n",
        "]"
      ],
      "execution_count": null,
      "outputs": []
    },
    {
      "cell_type": "code",
      "metadata": {
        "id": "wdH0isBTG3s-"
      },
      "source": [
        "for i in range(0,3282):\n",
        "  for ele in classe7:\n",
        "    if ele in df['Resume_title'][i]:\n",
        "         df['Resume_title'][i] = 'big data'"
      ],
      "execution_count": null,
      "outputs": []
    },
    {
      "cell_type": "code",
      "metadata": {
        "id": "lBkNy0hcBLlR"
      },
      "source": [
        "classe8=['cyber security','head of analytics']"
      ],
      "execution_count": null,
      "outputs": []
    },
    {
      "cell_type": "code",
      "metadata": {
        "id": "iCIiRJcDI1QF"
      },
      "source": [
        "for i in range(0,3282):\n",
        "  for ele in classe8:\n",
        "    if ele in df['Resume_title'][i]:\n",
        "         df['Resume_title'][i] = 'cyber security'"
      ],
      "execution_count": null,
      "outputs": []
    },
    {
      "cell_type": "code",
      "metadata": {
        "id": "Z3jzPVz1BOeR"
      },
      "source": [
        "classe9=['devoloper','development','developer ']"
      ],
      "execution_count": null,
      "outputs": []
    },
    {
      "cell_type": "code",
      "metadata": {
        "id": "nvIIPa7YI8H8"
      },
      "source": [
        "for i in range(0,3282):\n",
        "  for ele in classe9:\n",
        "    if ele in df['Resume_title'][i]:\n",
        "         df['Resume_title'][i] = 'development'"
      ],
      "execution_count": null,
      "outputs": []
    },
    {
      "cell_type": "code",
      "metadata": {
        "id": "zQEkVxXfJ4xr"
      },
      "source": [
        "classe10=['software','software developer']"
      ],
      "execution_count": null,
      "outputs": []
    },
    {
      "cell_type": "code",
      "metadata": {
        "id": "Ng-tpq7UJ_SX"
      },
      "source": [
        "for i in range(0,3282):\n",
        "  for ele in classe10:\n",
        "    if ele in df['Resume_title'][i]:\n",
        "         df['Resume_title'][i] = 'software developement'"
      ],
      "execution_count": null,
      "outputs": []
    },
    {
      "cell_type": "code",
      "metadata": {
        "id": "kk2kxx3_qaw1"
      },
      "source": [
        "classe11=['digital marketing','marketing and management','marketing executive']"
      ],
      "execution_count": null,
      "outputs": []
    },
    {
      "cell_type": "code",
      "metadata": {
        "id": "FhRVNG5-qmqb"
      },
      "source": [
        "for i in range(0,3282):\n",
        "  for ele in classe11:\n",
        "    if ele in df['Resume_title'][i]:\n",
        "         df['Resume_title'][i] = 'marketing'"
      ],
      "execution_count": null,
      "outputs": []
    },
    {
      "cell_type": "code",
      "metadata": {
        "colab": {
          "base_uri": "https://localhost:8080/"
        },
        "id": "wBNC94wjJHwg",
        "outputId": "44b8e293-cb92-400a-e70d-50bce3e4d49c"
      },
      "source": [
        "df['Resume_title'].value_counts()"
      ],
      "execution_count": null,
      "outputs": [
        {
          "output_type": "execute_result",
          "data": {
            "text/plain": [
              "Web developement                                         599\n",
              "development                                              519\n",
              "software developement                                    243\n",
              "artificial intelligence                                  227\n",
              "java                                                     210\n",
              "                                                        ... \n",
              "very good knowledge of angular 2+                          1\n",
              "b.com                                                      1\n",
              "become a python developer                                  1\n",
              "my total experience14 years. now i have been working       1\n",
              "member of technical staff                                  1\n",
              "Name: Resume_title, Length: 592, dtype: int64"
            ]
          },
          "metadata": {
            "tags": []
          },
          "execution_count": 524
        }
      ]
    },
    {
      "cell_type": "code",
      "metadata": {
        "colab": {
          "base_uri": "https://localhost:8080/"
        },
        "id": "s8gYKpDeTdGX",
        "outputId": "1e1b4a59-c22f-4e02-8896-739e0c261f72"
      },
      "source": [
        "df.shape"
      ],
      "execution_count": null,
      "outputs": [
        {
          "output_type": "execute_result",
          "data": {
            "text/plain": [
              "(3282, 10)"
            ]
          },
          "metadata": {
            "tags": []
          },
          "execution_count": 525
        }
      ]
    },
    {
      "cell_type": "code",
      "metadata": {
        "id": "ErowhMjrTpqu"
      },
      "source": [
        "df.reset_index(drop=True, inplace=True)\n",
        "\n"
      ],
      "execution_count": null,
      "outputs": []
    },
    {
      "cell_type": "code",
      "metadata": {
        "colab": {
          "base_uri": "https://localhost:8080/"
        },
        "id": "nSfV5xdTTylH",
        "outputId": "c20b6117-c1ba-4150-aeae-9cfd05703e39"
      },
      "source": [
        "df['Resume_title'].value_counts()"
      ],
      "execution_count": null,
      "outputs": [
        {
          "output_type": "execute_result",
          "data": {
            "text/plain": [
              "Web developement                                         599\n",
              "development                                              519\n",
              "software developement                                    243\n",
              "artificial intelligence                                  227\n",
              "java                                                     210\n",
              "                                                        ... \n",
              "very good knowledge of angular 2+                          1\n",
              "b.com                                                      1\n",
              "become a python developer                                  1\n",
              "my total experience14 years. now i have been working       1\n",
              "member of technical staff                                  1\n",
              "Name: Resume_title, Length: 592, dtype: int64"
            ]
          },
          "metadata": {
            "tags": []
          },
          "execution_count": 527
        }
      ]
    },
    {
      "cell_type": "code",
      "metadata": {
        "id": "toMYe_fLipxt"
      },
      "source": [
        "df=df.groupby('Resume_title').filter(lambda x : len(x)>10)\n"
      ],
      "execution_count": null,
      "outputs": []
    },
    {
      "cell_type": "code",
      "metadata": {
        "colab": {
          "base_uri": "https://localhost:8080/"
        },
        "id": "HToi9No4OnQ8",
        "outputId": "fa6ee5da-6283-4598-ce15-e8ee86956e7a"
      },
      "source": [
        "df.shape"
      ],
      "execution_count": null,
      "outputs": [
        {
          "output_type": "execute_result",
          "data": {
            "text/plain": [
              "(2399, 10)"
            ]
          },
          "metadata": {
            "tags": []
          },
          "execution_count": 529
        }
      ]
    },
    {
      "cell_type": "code",
      "metadata": {
        "colab": {
          "base_uri": "https://localhost:8080/"
        },
        "id": "mPE576RLS9VA",
        "outputId": "75922716-c3e9-4bd5-df60-9943708f1835"
      },
      "source": [
        "df['Resume_title'].value_counts()"
      ],
      "execution_count": null,
      "outputs": [
        {
          "output_type": "execute_result",
          "data": {
            "text/plain": [
              "Web developement           599\n",
              "development                519\n",
              "software developement      243\n",
              "artificial intelligence    227\n",
              "java                       210\n",
              "sql                        121\n",
              "d                           95\n",
              "web developer               87\n",
              "python developer            85\n",
              "                            62\n",
              "developer                   46\n",
              "internship                  36\n",
              "big data                    29\n",
              "fresher                     15\n",
              "  d                         13\n",
              "ios developer               12\n",
              "Name: Resume_title, dtype: int64"
            ]
          },
          "metadata": {
            "tags": []
          },
          "execution_count": 530
        }
      ]
    },
    {
      "cell_type": "code",
      "metadata": {
        "id": "bsFXnNu-BSNd"
      },
      "source": [
        "df.reset_index(drop=True, inplace=True)\n"
      ],
      "execution_count": null,
      "outputs": []
    },
    {
      "cell_type": "code",
      "metadata": {
        "id": "1kGgpYmwTC2x"
      },
      "source": [
        "df.drop(df.index[df['Resume_title'] == 'd'], inplace = True)\n",
        "df.drop(df.index[df['Resume_title'] == '  d'], inplace = True)\n",
        "df.drop(df.index[df['Resume_title'] == ''], inplace = True)\n",
        "df.drop(df.index[df['Resume_title'] == 'fresher'], inplace = True)\n",
        "df.drop(df.index[df['Resume_title'] == 'developer'], inplace = True)\n",
        "\n",
        "\n",
        "\n"
      ],
      "execution_count": null,
      "outputs": []
    },
    {
      "cell_type": "code",
      "metadata": {
        "colab": {
          "base_uri": "https://localhost:8080/"
        },
        "id": "PrJt6opKa-HU",
        "outputId": "f1d06112-dff0-4129-c118-e13666e214d2"
      },
      "source": [
        "\n",
        "df['Resume_title'].value_counts()"
      ],
      "execution_count": null,
      "outputs": [
        {
          "output_type": "execute_result",
          "data": {
            "text/plain": [
              "Web developement           599\n",
              "development                519\n",
              "software developement      243\n",
              "artificial intelligence    227\n",
              "java                       210\n",
              "sql                        121\n",
              "web developer               87\n",
              "python developer            85\n",
              "internship                  36\n",
              "big data                    29\n",
              "ios developer               12\n",
              "Name: Resume_title, dtype: int64"
            ]
          },
          "metadata": {
            "tags": []
          },
          "execution_count": 533
        }
      ]
    },
    {
      "cell_type": "code",
      "metadata": {
        "id": "T-gD1BkmvKmG"
      },
      "source": [
        "df['Resume_title']=df['Resume_title'].str.lower()    "
      ],
      "execution_count": null,
      "outputs": []
    },
    {
      "cell_type": "code",
      "metadata": {
        "colab": {
          "base_uri": "https://localhost:8080/"
        },
        "id": "Rh70ANbrwLei",
        "outputId": "763594d4-a05d-4d49-cb22-12bc20eb5834"
      },
      "source": [
        "df['Resume_title'].value_counts()"
      ],
      "execution_count": null,
      "outputs": [
        {
          "output_type": "execute_result",
          "data": {
            "text/plain": [
              "web developement           599\n",
              "development                519\n",
              "software developement      243\n",
              "artificial intelligence    227\n",
              "java                       210\n",
              "sql                        121\n",
              "web developer               87\n",
              "python developer            85\n",
              "internship                  36\n",
              "big data                    29\n",
              "ios developer               12\n",
              "Name: Resume_title, dtype: int64"
            ]
          },
          "metadata": {
            "tags": []
          },
          "execution_count": 535
        }
      ]
    },
    {
      "cell_type": "code",
      "metadata": {
        "colab": {
          "base_uri": "https://localhost:8080/"
        },
        "id": "yTYxhGO5yOOR",
        "outputId": "6b6bebc4-0326-49fd-a727-453f172a5759"
      },
      "source": [
        "df.reset_index(drop=True, inplace=True)\n",
        "df.shape"
      ],
      "execution_count": null,
      "outputs": [
        {
          "output_type": "execute_result",
          "data": {
            "text/plain": [
              "(2168, 10)"
            ]
          },
          "metadata": {
            "tags": []
          },
          "execution_count": 536
        }
      ]
    },
    {
      "cell_type": "code",
      "metadata": {
        "id": "9DK_75WMx3xX"
      },
      "source": [
        "for i in range (0,2168):\n",
        "  df['Resume_title'][i]=df['Resume_title'][i].replace('web developer','web developement')"
      ],
      "execution_count": null,
      "outputs": []
    },
    {
      "cell_type": "code",
      "metadata": {
        "colab": {
          "base_uri": "https://localhost:8080/"
        },
        "id": "19N0bF-wvOsP",
        "outputId": "a289f4e3-037c-4abb-f216-54aa3929d1b8"
      },
      "source": [
        "df['Resume_title'].value_counts()"
      ],
      "execution_count": null,
      "outputs": [
        {
          "output_type": "execute_result",
          "data": {
            "text/plain": [
              "web developement           686\n",
              "development                519\n",
              "software developement      243\n",
              "artificial intelligence    227\n",
              "java                       210\n",
              "sql                        121\n",
              "python developer            85\n",
              "internship                  36\n",
              "big data                    29\n",
              "ios developer               12\n",
              "Name: Resume_title, dtype: int64"
            ]
          },
          "metadata": {
            "tags": []
          },
          "execution_count": 538
        }
      ]
    },
    {
      "cell_type": "code",
      "metadata": {
        "colab": {
          "base_uri": "https://localhost:8080/"
        },
        "id": "ASZHeo20TlvH",
        "outputId": "d3d5fb54-3cb9-4d55-f1ab-9dc7d3ba7e19"
      },
      "source": [
        "len(df['Resume_title'].value_counts())"
      ],
      "execution_count": null,
      "outputs": [
        {
          "output_type": "execute_result",
          "data": {
            "text/plain": [
              "10"
            ]
          },
          "metadata": {
            "tags": []
          },
          "execution_count": 539
        }
      ]
    },
    {
      "cell_type": "code",
      "metadata": {
        "colab": {
          "base_uri": "https://localhost:8080/"
        },
        "id": "11U-ZAmXOt4v",
        "outputId": "2362ace6-1401-4486-ee26-b41603f0236b"
      },
      "source": [
        "df['work_experiences'].describe()"
      ],
      "execution_count": null,
      "outputs": [
        {
          "output_type": "execute_result",
          "data": {
            "text/plain": [
              "count                                                  2168\n",
              "unique                                                 1380\n",
              "top       {0: [{'wtitle:': 'Java developer'}, {'wcompany...\n",
              "freq                                                     13\n",
              "Name: work_experiences, dtype: object"
            ]
          },
          "metadata": {
            "tags": []
          },
          "execution_count": 540
        }
      ]
    },
    {
      "cell_type": "code",
      "metadata": {
        "colab": {
          "base_uri": "https://localhost:8080/",
          "height": 34
        },
        "id": "u7RATXSTQ8xe",
        "outputId": "46c28cef-1b38-4617-ece4-d57bae1d0874"
      },
      "source": [
        "df['work_experiences'][0]"
      ],
      "execution_count": null,
      "outputs": [
        {
          "output_type": "execute_result",
          "data": {
            "application/vnd.google.colaboratory.intrinsic+json": {
              "type": "string"
            },
            "text/plain": [
              "\"{0: [{'wtitle:': 'Java Developer'}, {'wcompany:': 'N'}, {'wcity:': 'NONE'}, {'wstate:': 'NONE'}, {'wduration:': 'Present'}, {'wdescr:': 'NONE'}]}\""
            ]
          },
          "metadata": {
            "tags": []
          },
          "execution_count": 541
        }
      ]
    },
    {
      "cell_type": "code",
      "metadata": {
        "id": "Tnwvy3mxiiMf"
      },
      "source": [
        "import nltk\n",
        "from nltk.stem import WordNetLemmatizer\n",
        "from nltk.tokenize import RegexpTokenizer\n",
        "import re\n",
        "from nltk.corpus import stopwords # for stop words\n",
        "from nltk import word_tokenize # to create tokens\n",
        "from nltk.stem import wordnet # to perform lemmitization\n",
        "from nltk import pos_tag # for parts of speech\n"
      ],
      "execution_count": null,
      "outputs": []
    },
    {
      "cell_type": "code",
      "metadata": {
        "colab": {
          "base_uri": "https://localhost:8080/"
        },
        "id": "hr8PsiA6iiXM",
        "outputId": "e2fae6f5-b882-4190-83a9-b9599450a695"
      },
      "source": [
        "nltk.download('punkt')\n"
      ],
      "execution_count": null,
      "outputs": [
        {
          "output_type": "stream",
          "text": [
            "[nltk_data] Downloading package punkt to /root/nltk_data...\n",
            "[nltk_data]   Package punkt is already up-to-date!\n"
          ],
          "name": "stdout"
        },
        {
          "output_type": "execute_result",
          "data": {
            "text/plain": [
              "True"
            ]
          },
          "metadata": {
            "tags": []
          },
          "execution_count": 543
        }
      ]
    },
    {
      "cell_type": "code",
      "metadata": {
        "colab": {
          "base_uri": "https://localhost:8080/"
        },
        "id": "UflBuooAiily",
        "outputId": "5bffaf3d-f403-4372-9c91-ea55c1b5775f"
      },
      "source": [
        "nltk.download('stopwords')\n"
      ],
      "execution_count": null,
      "outputs": [
        {
          "output_type": "stream",
          "text": [
            "[nltk_data] Downloading package stopwords to /root/nltk_data...\n",
            "[nltk_data]   Package stopwords is already up-to-date!\n"
          ],
          "name": "stdout"
        },
        {
          "output_type": "execute_result",
          "data": {
            "text/plain": [
              "True"
            ]
          },
          "metadata": {
            "tags": []
          },
          "execution_count": 544
        }
      ]
    },
    {
      "cell_type": "code",
      "metadata": {
        "colab": {
          "base_uri": "https://localhost:8080/"
        },
        "id": "SjR8bAxjhku8",
        "outputId": "6fe6429c-457a-4db5-ec9f-7e0330c004c2"
      },
      "source": [
        "nltk.download('wordnet')\n"
      ],
      "execution_count": null,
      "outputs": [
        {
          "output_type": "stream",
          "text": [
            "[nltk_data] Downloading package wordnet to /root/nltk_data...\n",
            "[nltk_data]   Package wordnet is already up-to-date!\n"
          ],
          "name": "stdout"
        },
        {
          "output_type": "execute_result",
          "data": {
            "text/plain": [
              "True"
            ]
          },
          "metadata": {
            "tags": []
          },
          "execution_count": 545
        }
      ]
    },
    {
      "cell_type": "code",
      "metadata": {
        "colab": {
          "base_uri": "https://localhost:8080/"
        },
        "id": "Mk_VrmJJhk1L",
        "outputId": "c1451392-206d-4c70-8654-0d0400ee02b2"
      },
      "source": [
        "nltk.download('averaged_perceptron_tagger')\n"
      ],
      "execution_count": null,
      "outputs": [
        {
          "output_type": "stream",
          "text": [
            "[nltk_data] Downloading package averaged_perceptron_tagger to\n",
            "[nltk_data]     /root/nltk_data...\n",
            "[nltk_data]   Package averaged_perceptron_tagger is already up-to-\n",
            "[nltk_data]       date!\n"
          ],
          "name": "stdout"
        },
        {
          "output_type": "execute_result",
          "data": {
            "text/plain": [
              "True"
            ]
          },
          "metadata": {
            "tags": []
          },
          "execution_count": 546
        }
      ]
    },
    {
      "cell_type": "code",
      "metadata": {
        "id": "kQzpuJQPi3xk"
      },
      "source": [
        "def remove_stopword(text): \n",
        "    stop_words = set(stopwords.words('english'))   \n",
        "    word_tokens = word_tokenize(text) \n",
        "    s= [] \n",
        "  \n",
        "    for w in word_tokens: \n",
        "          if w not in stop_words: \n",
        "                s.append(w)\n",
        "    return \" \".join(s) \n"
      ],
      "execution_count": null,
      "outputs": []
    },
    {
      "cell_type": "code",
      "metadata": {
        "id": "p-pt00EIi4A_"
      },
      "source": [
        "def text_normalization(text):\n",
        "    spl_char_text=re.sub(r'[^ a-zA-Z]','',text) # removing special characters\n",
        "    spl_char_text= remove_stopword(spl_char_text)\n",
        "    tokens=nltk.word_tokenize(spl_char_text) # word tokenizing\n",
        "    lema=wordnet.WordNetLemmatizer() # intializing lemmatization\n",
        "    tags_list=pos_tag(tokens,tagset=None) # parts of speech\n",
        "    lema_words=[]   # empty list \n",
        "    for token,pos_token in tags_list:\n",
        "        if pos_token=='NNP': \n",
        "            pos_val='n' # Noun\n",
        "            lema_token=lema.lemmatize(token,pos_val) # performing lemmatization\n",
        "            lema_words.append(lema_token) # appending the lemmatized token into a list\n",
        "    \n",
        "    return \" \".join(lema_words) # returns the lemmatized tokens as a sentence"
      ],
      "execution_count": null,
      "outputs": []
    },
    {
      "cell_type": "code",
      "metadata": {
        "id": "ntMXvRcymDyn"
      },
      "source": [
        "df['work_experiences'] = df['work_experiences'].apply(lambda x:text_normalization(x)  )"
      ],
      "execution_count": null,
      "outputs": []
    },
    {
      "cell_type": "code",
      "metadata": {
        "colab": {
          "base_uri": "https://localhost:8080/",
          "height": 34
        },
        "id": "93EKERMSRR9v",
        "outputId": "3ed46ebf-e1aa-435c-fdf3-867bbd39260e"
      },
      "source": [
        "df['work_experiences'][0]"
      ],
      "execution_count": null,
      "outputs": [
        {
          "output_type": "execute_result",
          "data": {
            "application/vnd.google.colaboratory.intrinsic+json": {
              "type": "string"
            },
            "text/plain": [
              "'Java Developer N NONE NONE Present'"
            ]
          },
          "metadata": {
            "tags": []
          },
          "execution_count": 550
        }
      ]
    },
    {
      "cell_type": "code",
      "metadata": {
        "colab": {
          "base_uri": "https://localhost:8080/",
          "height": 34
        },
        "id": "2yKOc6bCSSbe",
        "outputId": "351eef0d-e232-4bfb-cea9-4dcc4eec067e"
      },
      "source": [
        "df['work_experiences'][3]"
      ],
      "execution_count": null,
      "outputs": [
        {
          "output_type": "execute_result",
          "data": {
            "application/vnd.google.colaboratory.intrinsic+json": {
              "type": "string"
            },
            "text/plain": [
              "'Java Developer N NONE NONE Present NONE Java Developer N NONE NONE NONE Programming Languages Java Awareness Java JEE Developer N NONE NONE NONE'"
            ]
          },
          "metadata": {
            "tags": []
          },
          "execution_count": 551
        }
      ]
    },
    {
      "cell_type": "code",
      "metadata": {
        "colab": {
          "base_uri": "https://localhost:8080/",
          "height": 34
        },
        "id": "MP_00hI4R6a_",
        "outputId": "aaa7d1c3-7b5c-43c7-fd3e-059ed48e168b"
      },
      "source": [
        "text_normalization(\"{0: [{'wtitle:': 'Java Developer'}, {'wcompany:': 'N'}, {'wcity:': 'NONE'}, {'wstate:': 'NONE'}, {'wduration:': 'Present'}, {'wdescr:': 'NONE'}]}\")"
      ],
      "execution_count": null,
      "outputs": [
        {
          "output_type": "execute_result",
          "data": {
            "application/vnd.google.colaboratory.intrinsic+json": {
              "type": "string"
            },
            "text/plain": [
              "'Java Developer N NONE NONE Present'"
            ]
          },
          "metadata": {
            "tags": []
          },
          "execution_count": 552
        }
      ]
    },
    {
      "cell_type": "code",
      "metadata": {
        "colab": {
          "base_uri": "https://localhost:8080/"
        },
        "id": "6pUF7-eyjM_O",
        "outputId": "d6160228-f721-4f5e-e589-bd2c923af846"
      },
      "source": [
        "df.shape"
      ],
      "execution_count": null,
      "outputs": [
        {
          "output_type": "execute_result",
          "data": {
            "text/plain": [
              "(2168, 10)"
            ]
          },
          "metadata": {
            "tags": []
          },
          "execution_count": 553
        }
      ]
    },
    {
      "cell_type": "code",
      "metadata": {
        "id": "euifaM37Bo4o"
      },
      "source": [
        "df.reset_index(drop=True, inplace=True)\n"
      ],
      "execution_count": null,
      "outputs": []
    },
    {
      "cell_type": "code",
      "metadata": {
        "id": "VcVrOqFVBINU"
      },
      "source": [
        " for i in range (0,2168):\n",
        "    df['work_experiences'][i]=df['work_experiences'][i].replace(\"NONE\",\"\")\n",
        "    df['work_experiences'][i]=df['work_experiences'][i].replace(\"Present\",\"\")\n",
        "    df['work_experiences'][i]=df['work_experiences'][i].replace(\"N\",\"\")\n",
        "\n"
      ],
      "execution_count": null,
      "outputs": []
    },
    {
      "cell_type": "code",
      "metadata": {
        "colab": {
          "base_uri": "https://localhost:8080/"
        },
        "id": "ZHidwPiRtvzw",
        "outputId": "c60a4fda-08ad-41cf-bee6-6072cdd04bda"
      },
      "source": [
        "df['work_experiences']"
      ],
      "execution_count": null,
      "outputs": [
        {
          "output_type": "execute_result",
          "data": {
            "text/plain": [
              "0                                      Java Developer    \n",
              "1                                      Java Developer    \n",
              "2       Java Developer Maxgen Technologies Private Lim...\n",
              "3       Java Developer      Java Developer     Program...\n",
              "4       Java Developer TechForce Hyderabad Telangana J...\n",
              "                              ...                        \n",
              "2163    Business Development Manager MARKETPLACE Pune ...\n",
              "2164    Manager Finance Internal Auditor Tricone Engin...\n",
              "2165    Associate Internal Audit Aneja Associates   Fe...\n",
              "2166    Account Executive Pinnacle Knitting Mills Tiru...\n",
              "2167    Plant Head Auto Ignition agpur Maharashtra Aug...\n",
              "Name: work_experiences, Length: 2168, dtype: object"
            ]
          },
          "metadata": {
            "tags": []
          },
          "execution_count": 556
        }
      ]
    },
    {
      "cell_type": "code",
      "metadata": {
        "colab": {
          "base_uri": "https://localhost:8080/",
          "height": 52
        },
        "id": "KvIVygpYXd-K",
        "outputId": "a7b973d5-5f5c-4e6d-dc74-8adbb4421b90"
      },
      "source": [
        "df['Educations'][2]"
      ],
      "execution_count": null,
      "outputs": [
        {
          "output_type": "execute_result",
          "data": {
            "application/vnd.google.colaboratory.intrinsic+json": {
              "type": "string"
            },
            "text/plain": [
              "\"{0: [{'e_title:': 'BTECH in IT in Nanded'}, {'e_schoolname:': 'Pune University'}, {'e_city:': 'Pune'}, {'e_state:': ' Maharashtra'}, {'e_duration:': '2017'}], 1: [{'e_title:': 'Diploma in IT'}, {'e_schoolname:': 'Govt. Polytechnic, Aurangabad'}, {'e_city:': 'NONE'}, {'e_state:': 'NONE'}, {'e_duration:': 'NONE'}]}\""
            ]
          },
          "metadata": {
            "tags": []
          },
          "execution_count": 557
        }
      ]
    },
    {
      "cell_type": "code",
      "metadata": {
        "id": "JXB_sXqxXu8P"
      },
      "source": [
        "df['Educations'] = df['Educations'].apply(lambda x:text_normalization(x)  )"
      ],
      "execution_count": null,
      "outputs": []
    },
    {
      "cell_type": "code",
      "metadata": {
        "colab": {
          "base_uri": "https://localhost:8080/",
          "height": 34
        },
        "id": "pRX7wbba1ChQ",
        "outputId": "c7f7c954-b8c5-4639-813c-a3e0e1b3b673"
      },
      "source": [
        "df['Educations'][2]"
      ],
      "execution_count": null,
      "outputs": [
        {
          "output_type": "execute_result",
          "data": {
            "application/vnd.google.colaboratory.intrinsic+json": {
              "type": "string"
            },
            "text/plain": [
              "'BTECH IT Nanded Pune University Pune Maharashtra Diploma IT Govt Polytechnic Aurangabad NONE NONE'"
            ]
          },
          "metadata": {
            "tags": []
          },
          "execution_count": 559
        }
      ]
    },
    {
      "cell_type": "code",
      "metadata": {
        "id": "Tb1fzTHGYeG6"
      },
      "source": [
        "for i in range (0,2168):\n",
        "  df['Educations'][i]=df['Educations'][i].replace(\"NONE\", \" \")"
      ],
      "execution_count": null,
      "outputs": []
    },
    {
      "cell_type": "code",
      "metadata": {
        "id": "IzHnwAUMZXl6"
      },
      "source": [
        "def text_normalization1(text):\n",
        "    \n",
        "    spl_char_text=re.sub(r'[^ ++#a-zA-Z]','',text) # removing special characters\n",
        "    spl_char_text= remove_stopword(spl_char_text)\n",
        "    tokens=nltk.word_tokenize(spl_char_text) # word tokenizing\n",
        "    lema=wordnet.WordNetLemmatizer() # intializing lemmatization\n",
        "    tags_list=pos_tag(tokens,tagset=None) # parts of speech\n",
        "    lema_words=[]   # empty list \n",
        "    for token,pos_token in tags_list:\n",
        "        if pos_token=='NNP': \n",
        "            pos_val='n' # Noun\n",
        "            lema_token=lema.lemmatize(token,pos_val) # performing lemmatization\n",
        "            lema_words.append(lema_token) # appending the lemmatized token into a list\n",
        "    \n",
        "    return \" \".join(lema_words) # returns the lemmatized tokens as a sentence"
      ],
      "execution_count": null,
      "outputs": []
    },
    {
      "cell_type": "code",
      "metadata": {
        "colab": {
          "base_uri": "https://localhost:8080/",
          "height": 52
        },
        "id": "c2sD7m5XYpqj",
        "outputId": "4ceec101-ff46-4602-c42d-323543d73279"
      },
      "source": [
        "df['Skills'][0]"
      ],
      "execution_count": null,
      "outputs": [
        {
          "output_type": "execute_result",
          "data": {
            "application/vnd.google.colaboratory.intrinsic+json": {
              "type": "string"
            },
            "text/plain": [
              "\"['Java (Less than 1 year)', ' Jsp (Less than 1 year)', ' Javascript (Less than 1 year)', ' C (Less than 1 year)', ' C++ (Less than 1 year)', ' Html (Less than 1 year)', ' Css (Less than 1 year)', ' Bootstrap (Less than 1 year)', ' Spring (Less than 1 year)', ' Hibernate (Less than 1 year)', ' J2Ee']\""
            ]
          },
          "metadata": {
            "tags": []
          },
          "execution_count": 562
        }
      ]
    },
    {
      "cell_type": "code",
      "metadata": {
        "id": "98MQHgliY0ZX"
      },
      "source": [
        "df['Skills'] = df['Skills'].apply(lambda x:text_normalization1(x)  )"
      ],
      "execution_count": null,
      "outputs": []
    },
    {
      "cell_type": "code",
      "metadata": {
        "colab": {
          "base_uri": "https://localhost:8080/",
          "height": 34
        },
        "id": "n__3VR3bY7XP",
        "outputId": "d5b3a151-c8ea-4994-fa43-4eb5c273e0fa"
      },
      "source": [
        "df['Skills'][0]"
      ],
      "execution_count": null,
      "outputs": [
        {
          "output_type": "execute_result",
          "data": {
            "application/vnd.google.colaboratory.intrinsic+json": {
              "type": "string"
            },
            "text/plain": [
              "'Java Less Jsp Less Javascript Less C Less C++ Less Html Less Css Less Bootstrap Less Less Hibernate Less JEe'"
            ]
          },
          "metadata": {
            "tags": []
          },
          "execution_count": 564
        }
      ]
    },
    {
      "cell_type": "code",
      "metadata": {
        "id": "mm4CnMu-dOBO"
      },
      "source": [
        "for i in range (0,2168):\n",
        "  df['Skills'][i]=df['Skills'][i].replace(\"Less\", \"\")"
      ],
      "execution_count": null,
      "outputs": []
    },
    {
      "cell_type": "code",
      "metadata": {
        "colab": {
          "base_uri": "https://localhost:8080/",
          "height": 52
        },
        "id": "Hszp4LmZePnD",
        "outputId": "b23f0e78-1584-4261-b8f3-bec3ca9ca1b8"
      },
      "source": [
        "df['Certificates'][0]"
      ],
      "execution_count": null,
      "outputs": [
        {
          "output_type": "execute_result",
          "data": {
            "application/vnd.google.colaboratory.intrinsic+json": {
              "type": "string"
            },
            "text/plain": [
              "\"{0: [{'c_title:': 'Java Developer'}, {'c_duration:': 'June 2019 to Present'}, {'c_descr:': 'Trained three months as Junior Java Developer Trainee with Steps Kochi, Sprectrum Softech Solutions Pvt Ltd. \\\\n( www.stepskochi.com )'}]}\""
            ]
          },
          "metadata": {
            "tags": []
          },
          "execution_count": 566
        }
      ]
    },
    {
      "cell_type": "code",
      "metadata": {
        "id": "nFpaNmdkecsp"
      },
      "source": [
        "df['Certificates'] = df['Certificates'].apply(lambda x:text_normalization1(x))"
      ],
      "execution_count": null,
      "outputs": []
    },
    {
      "cell_type": "code",
      "metadata": {
        "colab": {
          "base_uri": "https://localhost:8080/",
          "height": 34
        },
        "id": "4Pjp_nQ7eo_I",
        "outputId": "eecb57ae-a670-4b1d-e985-7a9af5c8b47f"
      },
      "source": [
        "df['Certificates'][0]"
      ],
      "execution_count": null,
      "outputs": [
        {
          "output_type": "execute_result",
          "data": {
            "application/vnd.google.colaboratory.intrinsic+json": {
              "type": "string"
            },
            "text/plain": [
              "'Java Developer June Present Junior Java Developer Trainee Steps Kochi Sprectrum Softech Solutions Pvt Ltd'"
            ]
          },
          "metadata": {
            "tags": []
          },
          "execution_count": 568
        }
      ]
    },
    {
      "cell_type": "code",
      "metadata": {
        "id": "xVIwE8ONgEeA"
      },
      "source": [
        "for i in range (0,2168):\n",
        "  df['Certificates'][i]=df['Certificates'][i].replace(\"Present\", \"\")"
      ],
      "execution_count": null,
      "outputs": []
    },
    {
      "cell_type": "code",
      "metadata": {
        "id": "J8SfSXNwesg1"
      },
      "source": [
        "df['Additional Information'] = df['Additional Information'].apply(lambda x:text_normalization1(x))"
      ],
      "execution_count": null,
      "outputs": []
    },
    {
      "cell_type": "code",
      "metadata": {
        "colab": {
          "base_uri": "https://localhost:8080/",
          "height": 34
        },
        "id": "IWVgAkOVgRRv",
        "outputId": "2b4b6e3c-210a-47d2-e7db-b620ea3b7919"
      },
      "source": [
        "df['Additional Information'][0]"
      ],
      "execution_count": null,
      "outputs": [
        {
          "output_type": "execute_result",
          "data": {
            "application/vnd.google.colaboratory.intrinsic+json": {
              "type": "string"
            },
            "text/plain": [
              "'Expertise Operating Windows Languages Known JAVA C C++ HTML CSS Bootstrap JEE JSP JavaScript Frameworks Hibernate Spring Packages MYSQL Development Tools Eclipse Netbeans'"
            ]
          },
          "metadata": {
            "tags": []
          },
          "execution_count": 571
        }
      ]
    },
    {
      "cell_type": "code",
      "metadata": {
        "id": "OdOFESQrgY1j"
      },
      "source": [
        "df['Profile']=df.apply(lambda x:'%s_%s%s_%s_%s' % (x['work_experiences'],x['Educations'],x['Skills'],x['Certificates'],x['Additional Information']),axis=1)\n"
      ],
      "execution_count": null,
      "outputs": []
    },
    {
      "cell_type": "code",
      "metadata": {
        "id": "dMITRCjEnJ2v"
      },
      "source": [
        "for i in range (0,2168):\n",
        "  df['Profile'][i]=re.sub(r'[^ ++#a-zA-Z]','',df['Profile'][i])\n",
        "  df['Profile'][i]=df['Profile'][i].lower()"
      ],
      "execution_count": null,
      "outputs": []
    },
    {
      "cell_type": "code",
      "metadata": {
        "colab": {
          "base_uri": "https://localhost:8080/"
        },
        "id": "F31ify-EqaOw",
        "outputId": "6de92db2-c56e-472a-dc9b-b15f810702fb"
      },
      "source": [
        "df.shape"
      ],
      "execution_count": null,
      "outputs": [
        {
          "output_type": "execute_result",
          "data": {
            "text/plain": [
              "(2168, 11)"
            ]
          },
          "metadata": {
            "tags": []
          },
          "execution_count": 574
        }
      ]
    },
    {
      "cell_type": "code",
      "metadata": {
        "id": "VyoUe_BrjDnF"
      },
      "source": [
        "df.reset_index(drop=True, inplace=True)\n"
      ],
      "execution_count": null,
      "outputs": []
    },
    {
      "cell_type": "code",
      "metadata": {
        "colab": {
          "background_save": true
        },
        "id": "M7_0VAtWjDzn"
      },
      "source": [
        ""
      ],
      "execution_count": null,
      "outputs": []
    },
    {
      "cell_type": "code",
      "metadata": {
        "colab": {
          "base_uri": "https://localhost:8080/"
        },
        "id": "gPj57baVnq0Z",
        "outputId": "c3cdbfb3-7b81-4598-bca2-ee51b1154e3b"
      },
      "source": [
        "!nvidia-smi"
      ],
      "execution_count": null,
      "outputs": [
        {
          "output_type": "stream",
          "text": [
            "Wed Jan 13 13:17:14 2021       \n",
            "+-----------------------------------------------------------------------------+\n",
            "| NVIDIA-SMI 460.27.04    Driver Version: 418.67       CUDA Version: 10.1     |\n",
            "|-------------------------------+----------------------+----------------------+\n",
            "| GPU  Name        Persistence-M| Bus-Id        Disp.A | Volatile Uncorr. ECC |\n",
            "| Fan  Temp  Perf  Pwr:Usage/Cap|         Memory-Usage | GPU-Util  Compute M. |\n",
            "|                               |                      |               MIG M. |\n",
            "|===============================+======================+======================|\n",
            "|   0  Tesla K80           Off  | 00000000:00:04.0 Off |                    0 |\n",
            "| N/A   33C    P8    27W / 149W |      0MiB / 11441MiB |      0%      Default |\n",
            "|                               |                      |                 ERR! |\n",
            "+-------------------------------+----------------------+----------------------+\n",
            "                                                                               \n",
            "+-----------------------------------------------------------------------------+\n",
            "| Processes:                                                                  |\n",
            "|  GPU   GI   CI        PID   Type   Process name                  GPU Memory |\n",
            "|        ID   ID                                                   Usage      |\n",
            "|=============================================================================|\n",
            "|  No running processes found                                                 |\n",
            "+-----------------------------------------------------------------------------+\n"
          ],
          "name": "stdout"
        }
      ]
    },
    {
      "cell_type": "code",
      "metadata": {
        "id": "IXNJq4MloQXD"
      },
      "source": [
        "!pip install tensorflow-gpu >> /dev/null"
      ],
      "execution_count": null,
      "outputs": []
    },
    {
      "cell_type": "code",
      "metadata": {
        "colab": {
          "base_uri": "https://localhost:8080/"
        },
        "id": "nAMoiq6Rn_yW",
        "outputId": "c5a7def0-b405-4e49-9f3e-ca9848fc87b2"
      },
      "source": [
        "!pip install --upgrade grpcio >> /dev/null"
      ],
      "execution_count": null,
      "outputs": [
        {
          "output_type": "stream",
          "text": [
            "\u001b[31mERROR: tensorflow 2.4.0 has requirement grpcio~=1.32.0, but you'll have grpcio 1.34.0 which is incompatible.\u001b[0m\n",
            "\u001b[31mERROR: tensorflow-gpu 2.4.0 has requirement grpcio~=1.32.0, but you'll have grpcio 1.34.0 which is incompatible.\u001b[0m\n"
          ],
          "name": "stdout"
        }
      ]
    },
    {
      "cell_type": "code",
      "metadata": {
        "id": "xVa0U0Ge1MV1"
      },
      "source": [
        "!pip install tqdm  >> /dev/null"
      ],
      "execution_count": null,
      "outputs": []
    },
    {
      "cell_type": "code",
      "metadata": {
        "id": "9KXHEuNd1Mfk"
      },
      "source": [
        "!pip install bert-for-tf2 >> /dev/null"
      ],
      "execution_count": null,
      "outputs": []
    },
    {
      "cell_type": "code",
      "metadata": {
        "id": "NUEmWzSz2OkH"
      },
      "source": [
        "!pip install sentencepiece >> /dev/null"
      ],
      "execution_count": null,
      "outputs": []
    },
    {
      "cell_type": "code",
      "metadata": {
        "id": "w2pcA0qv2Ouc"
      },
      "source": [
        "import os\n",
        "import math\n",
        "import datetime\n",
        "\n",
        "from tqdm import tqdm\n",
        "\n",
        "import pandas as pd\n",
        "import numpy as np\n",
        "\n",
        "import tensorflow as tf\n",
        "from tensorflow import keras\n",
        "\n",
        "import bert\n",
        "from bert import BertModelLayer\n",
        "from bert.loader import StockBertConfig, map_stock_config_to_params, load_stock_weights\n",
        "from bert.tokenization.bert_tokenization import FullTokenizer\n",
        "\n",
        "import seaborn as sns\n",
        "from pylab import rcParams\n",
        "import matplotlib.pyplot as plt\n",
        "from matplotlib.ticker import MaxNLocator\n",
        "from matplotlib import rc\n",
        "\n",
        "from sklearn.metrics import confusion_matrix, classification_report\n",
        "\n",
        "%matplotlib inline\n",
        "%config InlineBackend.figure_format='retina'\n",
        "\n",
        "sns.set(style='whitegrid', palette='muted', font_scale=1.2)\n",
        "\n",
        "HAPPY_COLORS_PALETTE = [\"#01BEFE\", \"#FFDD00\", \"#FF7D00\", \"#FF006D\", \"#ADFF02\", \"#8F00FF\"]\n",
        "\n",
        "sns.set_palette(sns.color_palette(HAPPY_COLORS_PALETTE))\n",
        "\n",
        "rcParams['figure.figsize'] = 12, 8\n",
        "\n",
        "RANDOM_SEED = 42\n",
        "\n",
        "np.random.seed(RANDOM_SEED)\n",
        "tf.random.set_seed(RANDOM_SEED)"
      ],
      "execution_count": null,
      "outputs": []
    },
    {
      "cell_type": "code",
      "metadata": {
        "id": "FzlyYcHyjNLz"
      },
      "source": [
        "train = df.sample(2000)\n",
        "valid = df.sample(100)\n",
        "test =  df.sample(100)"
      ],
      "execution_count": null,
      "outputs": []
    },
    {
      "cell_type": "code",
      "metadata": {
        "id": "p_6xPMYn3k2P"
      },
      "source": [
        "train = train.append(valid).reset_index(drop=True)"
      ],
      "execution_count": null,
      "outputs": []
    },
    {
      "cell_type": "code",
      "metadata": {
        "id": "TT87uiWQ3lBU",
        "colab": {
          "base_uri": "https://localhost:8080/"
        },
        "outputId": "55fa2d56-ae2f-49b8-db6c-4bdca14350b2"
      },
      "source": [
        "train.shape"
      ],
      "execution_count": null,
      "outputs": [
        {
          "output_type": "execute_result",
          "data": {
            "text/plain": [
              "(2100, 11)"
            ]
          },
          "metadata": {
            "tags": []
          },
          "execution_count": 91
        }
      ]
    },
    {
      "cell_type": "code",
      "metadata": {
        "id": "o9UtubL33rrb",
        "colab": {
          "base_uri": "https://localhost:8080/"
        },
        "outputId": "3d4a966f-1faa-4b4c-82f4-00617da602c1"
      },
      "source": [
        "!wget https://storage.googleapis.com/bert_models/2018_10_18/uncased_L-12_H-768_A-12.zip"
      ],
      "execution_count": null,
      "outputs": [
        {
          "output_type": "stream",
          "text": [
            "--2021-01-13 13:29:06--  https://storage.googleapis.com/bert_models/2018_10_18/uncased_L-12_H-768_A-12.zip\n",
            "Resolving storage.googleapis.com (storage.googleapis.com)... 108.177.97.128, 64.233.189.128, 2404:6800:4008:c03::80, ...\n",
            "Connecting to storage.googleapis.com (storage.googleapis.com)|108.177.97.128|:443... connected.\n",
            "HTTP request sent, awaiting response... 200 OK\n",
            "Length: 407727028 (389M) [application/zip]\n",
            "Saving to: ‘uncased_L-12_H-768_A-12.zip’\n",
            "\n",
            "uncased_L-12_H-768_ 100%[===================>] 388.84M  74.8MB/s    in 5.7s    \n",
            "\n",
            "2021-01-13 13:29:12 (68.0 MB/s) - ‘uncased_L-12_H-768_A-12.zip’ saved [407727028/407727028]\n",
            "\n"
          ],
          "name": "stdout"
        }
      ]
    },
    {
      "cell_type": "code",
      "metadata": {
        "id": "A-7zTpnovVNS",
        "colab": {
          "base_uri": "https://localhost:8080/"
        },
        "outputId": "fdc27048-0fc7-4f66-f0d7-bd32cc6029cc"
      },
      "source": [
        "!unzip uncased_L-12_H-768_A-12.zip"
      ],
      "execution_count": null,
      "outputs": [
        {
          "output_type": "stream",
          "text": [
            "Archive:  uncased_L-12_H-768_A-12.zip\n",
            "   creating: uncased_L-12_H-768_A-12/\n",
            "  inflating: uncased_L-12_H-768_A-12/bert_model.ckpt.meta  \n",
            "  inflating: uncased_L-12_H-768_A-12/bert_model.ckpt.data-00000-of-00001  \n",
            "  inflating: uncased_L-12_H-768_A-12/vocab.txt  \n",
            "  inflating: uncased_L-12_H-768_A-12/bert_model.ckpt.index  \n",
            "  inflating: uncased_L-12_H-768_A-12/bert_config.json  \n"
          ],
          "name": "stdout"
        }
      ]
    },
    {
      "cell_type": "code",
      "metadata": {
        "id": "ppLtn8r-vVTi"
      },
      "source": [
        "os.makedirs(\"model\", exist_ok=True)"
      ],
      "execution_count": null,
      "outputs": []
    },
    {
      "cell_type": "code",
      "metadata": {
        "id": "wZyEcAEWvVYp"
      },
      "source": [
        "!mv uncased_L-12_H-768_A-12/ model"
      ],
      "execution_count": null,
      "outputs": []
    },
    {
      "cell_type": "code",
      "metadata": {
        "id": "vhTglbVO4OxZ"
      },
      "source": [
        "bert_model_name=\"uncased_L-12_H-768_A-12\"\n",
        "\n",
        "bert_ckpt_dir = os.path.join(\"model/\", bert_model_name)\n",
        "bert_ckpt_file = os.path.join(bert_ckpt_dir, \"bert_model.ckpt\")\n",
        "bert_config_file = os.path.join(bert_ckpt_dir, \"bert_config.json\")"
      ],
      "execution_count": null,
      "outputs": []
    },
    {
      "cell_type": "code",
      "metadata": {
        "id": "A7FgFElk4O85"
      },
      "source": [
        "class DetectionData:\n",
        "  DATA_COLUMN = \"Profile\"\n",
        "  LABEL_COLUMN = \"Resume_title\"\n",
        "\n",
        "  def __init__(self, train, test, tokenizer: FullTokenizer, classes, max_seq_len=192):\n",
        "    self.tokenizer = tokenizer\n",
        "    self.max_seq_len = 0\n",
        "    self.classes = classes\n",
        "    \n",
        "    ((self.train_x, self.train_y), (self.test_x, self.test_y)) = map(self._prepare, [train, test])\n",
        "\n",
        "    print(\"max seq_len\", self.max_seq_len)\n",
        "    self.max_seq_len = min(self.max_seq_len, max_seq_len)\n",
        "    self.train_x, self.test_x = map(self._pad, [self.train_x, self.test_x])\n",
        "\n",
        "  def _prepare(self, df):\n",
        "    x, y = [], []\n",
        "    \n",
        "    for _, row in tqdm(df.iterrows()):\n",
        "      text, label = row[DetectionData.DATA_COLUMN], row[DetectionData.LABEL_COLUMN]\n",
        "      tokens = self.tokenizer.tokenize(text)\n",
        "      tokens = [\"[CLS]\"] + tokens + [\"[SEP]\"]\n",
        "      token_ids = self.tokenizer.convert_tokens_to_ids(tokens)\n",
        "      self.max_seq_len = max(self.max_seq_len, len(token_ids))\n",
        "      x.append(token_ids)\n",
        "      y.append(self.classes.index(label))\n",
        "\n",
        "    return np.array(x), np.array(y)\n",
        "\n",
        "  def _pad(self, ids):\n",
        "    x = []\n",
        "    for input_ids in ids:\n",
        "      input_ids = input_ids[:min(len(input_ids), self.max_seq_len - 2)]\n",
        "      input_ids = input_ids + [0] * (self.max_seq_len - len(input_ids))\n",
        "      x.append(np.array(input_ids))\n",
        "    return np.array(x)"
      ],
      "execution_count": null,
      "outputs": []
    },
    {
      "cell_type": "code",
      "metadata": {
        "id": "vDkuUG8Q4PK0"
      },
      "source": [
        "tokenizer = FullTokenizer(vocab_file=os.path.join(bert_ckpt_dir, \"vocab.txt\"))"
      ],
      "execution_count": null,
      "outputs": []
    },
    {
      "cell_type": "code",
      "metadata": {
        "id": "Szl3TkjKvVck",
        "colab": {
          "base_uri": "https://localhost:8080/"
        },
        "outputId": "e1a22825-00f3-4b86-f206-1f4ad6e9b6e7"
      },
      "source": [
        "tokenizer.tokenize(\"I can't wait to visit Bulgaria again!\")"
      ],
      "execution_count": null,
      "outputs": [
        {
          "output_type": "execute_result",
          "data": {
            "text/plain": [
              "['i', 'can', \"'\", 't', 'wait', 'to', 'visit', 'bulgaria', 'again', '!']"
            ]
          },
          "metadata": {
            "tags": []
          },
          "execution_count": 100
        }
      ]
    },
    {
      "cell_type": "code",
      "metadata": {
        "id": "UeyqJ7AcvVXB",
        "colab": {
          "base_uri": "https://localhost:8080/"
        },
        "outputId": "713c2ac8-f655-4f17-b50e-7442ad85c5b0"
      },
      "source": [
        "tokens = tokenizer.tokenize(\"I can't wait to visit Bulgaria again!\")\n",
        "tokenizer.convert_tokens_to_ids(tokens)"
      ],
      "execution_count": null,
      "outputs": [
        {
          "output_type": "execute_result",
          "data": {
            "text/plain": [
              "[1045, 2064, 1005, 1056, 3524, 2000, 3942, 8063, 2153, 999]"
            ]
          },
          "metadata": {
            "tags": []
          },
          "execution_count": 101
        }
      ]
    },
    {
      "cell_type": "code",
      "metadata": {
        "id": "bTgp9Ps3vVRQ"
      },
      "source": [
        "def create_model(max_seq_len, bert_ckpt_file):\n",
        "\n",
        "  with tf.io.gfile.GFile(bert_config_file, \"r\") as reader:\n",
        "      bc = StockBertConfig.from_json_string(reader.read())\n",
        "      bert_params = map_stock_config_to_params(bc)\n",
        "      bert_params.adapter_size = None\n",
        "      bert = BertModelLayer.from_params(bert_params, name=\"bert\")\n",
        "        \n",
        "  input_ids = keras.layers.Input(shape=(max_seq_len, ), dtype='int32', name=\"input_ids\")\n",
        "  bert_output = bert(input_ids)\n",
        "\n",
        "  print(\"bert shape\", bert_output.shape)\n",
        "\n",
        "  cls_out = keras.layers.Lambda(lambda seq: seq[:, 0, :])(bert_output)\n",
        "  cls_out = keras.layers.Dropout(0.5)(cls_out)\n",
        "  logits = keras.layers.Dense(units=768, activation=\"tanh\")(cls_out)\n",
        "  logits = keras.layers.Dropout(0.5)(logits)\n",
        "  logits = keras.layers.Dense(units=len(classes), activation=\"softmax\")(logits)\n",
        "\n",
        "  model = keras.Model(inputs=input_ids, outputs=logits)\n",
        "  model.build(input_shape=(None, max_seq_len))\n",
        "\n",
        "  load_stock_weights(bert, bert_ckpt_file)\n",
        "        \n",
        "  return model"
      ],
      "execution_count": null,
      "outputs": []
    },
    {
      "cell_type": "code",
      "metadata": {
        "id": "JU2r9ZwFwAXI"
      },
      "source": [
        "classes= train.Resume_title.unique().tolist()\n",
        "\n"
      ],
      "execution_count": null,
      "outputs": []
    },
    {
      "cell_type": "code",
      "metadata": {
        "id": "FiCz5lXVmLGd"
      },
      "source": [
        "len(classes)"
      ],
      "execution_count": null,
      "outputs": []
    },
    {
      "cell_type": "code",
      "metadata": {
        "id": "FY3TBTlJvSLd"
      },
      "source": [
        "data = DetectionData(train, test, tokenizer, classes, max_seq_len=128)"
      ],
      "execution_count": null,
      "outputs": []
    },
    {
      "cell_type": "code",
      "metadata": {
        "id": "sx0SthXlwAe5"
      },
      "source": [
        "data.train_x.shape"
      ],
      "execution_count": null,
      "outputs": []
    },
    {
      "cell_type": "code",
      "metadata": {
        "colab": {
          "base_uri": "https://localhost:8080/"
        },
        "id": "6ky04XGBwAh9",
        "outputId": "40d5c97a-e4e6-44fc-9744-65947c33b8b1"
      },
      "source": [
        "data.train_x[0]"
      ],
      "execution_count": null,
      "outputs": [
        {
          "output_type": "execute_result",
          "data": {
            "text/plain": [
              "array([  101, 25718,  9722,  3520, 26526,  3286, 23706, 21416,  2968,\n",
              "       26189,  2102,  5183,  2254,  2009, 18558, 10841,  4783,  2009,\n",
              "        7300, 26189,  2102,  5183, 16129, 20116,  2015,  9262, 22483,\n",
              "        1046,  4226,  2854, 18176, 25718,  2026,  2015,  4160,  2140,\n",
              "       26007, 16129, 20116,  2015,  9262, 22483,  8224,  3596, 21025,\n",
              "       13535, 25377, 19901,  2671, 18168,  2820,  2974,  2968,  2010,\n",
              "        2906, 23261,  2244,  2238, 11039, 19968,  9262, 22483,  6879,\n",
              "        6494,  2361, 25718,  3642, 23773, 21646, 15007, 20913,  4813,\n",
              "        4773, 16129, 20116,  2015,  6879,  6494,  2361,  9262, 22483,\n",
              "        1046,  4226,  2854, 18176, 25718,  2773, 20110, 22083,  6558,\n",
              "        3642, 23773, 21646,  8224,  3596,  3716,  2026, 29296,  2204,\n",
              "        8224,  3596,  3959,  8545, 22208,  3602, 15455,  1009,  1009,\n",
              "        2204,  3716,  7513, 24970,  7513,  2773,  7513,  2373,  8400,\n",
              "         102,     0,     0,     0,     0,     0,     0,     0,     0,\n",
              "           0,     0])"
            ]
          },
          "metadata": {
            "tags": []
          },
          "execution_count": 119
        }
      ]
    },
    {
      "cell_type": "code",
      "metadata": {
        "colab": {
          "base_uri": "https://localhost:8080/"
        },
        "id": "OxDmtgGrwG4Q",
        "outputId": "770f0665-5c98-49c4-9372-9fbeed40ccfd"
      },
      "source": [
        "data.train_x[0]"
      ],
      "execution_count": null,
      "outputs": [
        {
          "output_type": "execute_result",
          "data": {
            "text/plain": [
              "array([  101, 25718,  9722,  3520, 26526,  3286, 23706, 21416,  2968,\n",
              "       26189,  2102,  5183,  2254,  2009, 18558, 10841,  4783,  2009,\n",
              "        7300, 26189,  2102,  5183, 16129, 20116,  2015,  9262, 22483,\n",
              "        1046,  4226,  2854, 18176, 25718,  2026,  2015,  4160,  2140,\n",
              "       26007, 16129, 20116,  2015,  9262, 22483,  8224,  3596, 21025,\n",
              "       13535, 25377, 19901,  2671, 18168,  2820,  2974,  2968,  2010,\n",
              "        2906, 23261,  2244,  2238, 11039, 19968,  9262, 22483,  6879,\n",
              "        6494,  2361, 25718,  3642, 23773, 21646, 15007, 20913,  4813,\n",
              "        4773, 16129, 20116,  2015,  6879,  6494,  2361,  9262, 22483,\n",
              "        1046,  4226,  2854, 18176, 25718,  2773, 20110, 22083,  6558,\n",
              "        3642, 23773, 21646,  8224,  3596,  3716,  2026, 29296,  2204,\n",
              "        8224,  3596,  3959,  8545, 22208,  3602, 15455,  1009,  1009,\n",
              "        2204,  3716,  7513, 24970,  7513,  2773,  7513,  2373,  8400,\n",
              "         102,     0,     0,     0,     0,     0,     0,     0,     0,\n",
              "           0,     0])"
            ]
          },
          "metadata": {
            "tags": []
          },
          "execution_count": 120
        }
      ]
    },
    {
      "cell_type": "code",
      "metadata": {
        "colab": {
          "base_uri": "https://localhost:8080/"
        },
        "id": "wzGG5GQewG-L",
        "outputId": "6984a9ef-7464-4356-d2ff-5aab9aafcf34"
      },
      "source": [
        "data.test_x[0]"
      ],
      "execution_count": null,
      "outputs": [
        {
          "output_type": "execute_result",
          "data": {
            "text/plain": [
              "array([  101,  3796, 24925,  2078,  9722, 21307,  3270,  2319,  8191,\n",
              "       14129, 12092,  1051,  3726, 21784,  3325,  2458,  2968,  2892,\n",
              "        3710,  4105,  2136,  3910,  3401, 10085,  3406,  2164,  2832,\n",
              "        2640,  4087,  2640,  4073, 24155,  7692, 24155,  7987,  2094,\n",
              "        2038, 23408,  2213, 21791,  4830,  9397, 16316,  4083,  6959,\n",
              "        4083,  2458, 12646,  2551,  2203, 20330,  2164,  3796, 24925,\n",
              "        2078,  7248,  5482,  8930,  6178,  3351, 25300, 13624, 23764,\n",
              "        2238,  2255,  2238, 13323,  5566, 14767, 17571,  1041,  2860,\n",
              "        3131,  2328,  2136, 15680,  2731,  6970,  7011,  6129,  2449,\n",
              "       10489,  2449,  2553,  7781,  2933,  7396,  3796, 24925,  2078,\n",
              "        2784,  3796, 24925,  2078, 23760,  3709,  4590,  8313,  2387,\n",
              "       19392, 28855, 14820, 22035,  6824,  4526,  2622, 26163,  2015,\n",
              "        8822,  9756,  7692, 10813,  3737, 12646,  2599,  9932,  3796,\n",
              "       24925,  2078, 16428,  2458,  2136, 29003, 17371, 15472, 21935,\n",
              "           0,     0])"
            ]
          },
          "metadata": {
            "tags": []
          },
          "execution_count": 121
        }
      ]
    },
    {
      "cell_type": "code",
      "metadata": {
        "colab": {
          "base_uri": "https://localhost:8080/"
        },
        "id": "mp-L62IAwHIz",
        "outputId": "2e6c15a5-259a-4a7b-ad5e-1fc9530e5736"
      },
      "source": [
        "data.max_seq_len"
      ],
      "execution_count": null,
      "outputs": [
        {
          "output_type": "execute_result",
          "data": {
            "text/plain": [
              "128"
            ]
          },
          "metadata": {
            "tags": []
          },
          "execution_count": 122
        }
      ]
    },
    {
      "cell_type": "code",
      "metadata": {
        "colab": {
          "base_uri": "https://localhost:8080/"
        },
        "id": "bUk9-RUvwHGE",
        "outputId": "3dfc4ebc-755a-4f8c-e773-7a309c6fdc00"
      },
      "source": [
        "model = create_model(data.max_seq_len, bert_ckpt_file)"
      ],
      "execution_count": null,
      "outputs": [
        {
          "output_type": "stream",
          "text": [
            "bert shape (None, 128, 768)\n",
            "Done loading 196 BERT weights from: model/uncased_L-12_H-768_A-12/bert_model.ckpt into <bert.model.BertModelLayer object at 0x7f6f4ce48e10> (prefix:bert). Count of weights not found in the checkpoint was: [0]. Count of weights with mismatched shape: [0]\n",
            "Unused weights from checkpoint: \n",
            "\tbert/embeddings/token_type_embeddings\n",
            "\tbert/pooler/dense/bias\n",
            "\tbert/pooler/dense/kernel\n",
            "\tcls/predictions/output_bias\n",
            "\tcls/predictions/transform/LayerNorm/beta\n",
            "\tcls/predictions/transform/LayerNorm/gamma\n",
            "\tcls/predictions/transform/dense/bias\n",
            "\tcls/predictions/transform/dense/kernel\n",
            "\tcls/seq_relationship/output_bias\n",
            "\tcls/seq_relationship/output_weights\n"
          ],
          "name": "stdout"
        }
      ]
    },
    {
      "cell_type": "code",
      "metadata": {
        "colab": {
          "base_uri": "https://localhost:8080/"
        },
        "id": "6XMxlCNqy8ka",
        "outputId": "2435d6be-d7fc-4514-f0c7-fe8d11b85b5f"
      },
      "source": [
        "model.summary()"
      ],
      "execution_count": null,
      "outputs": [
        {
          "output_type": "stream",
          "text": [
            "Model: \"model\"\n",
            "_________________________________________________________________\n",
            "Layer (type)                 Output Shape              Param #   \n",
            "=================================================================\n",
            "input_ids (InputLayer)       [(None, 128)]             0         \n",
            "_________________________________________________________________\n",
            "bert (BertModelLayer)        (None, 128, 768)          108890112 \n",
            "_________________________________________________________________\n",
            "lambda (Lambda)              (None, 768)               0         \n",
            "_________________________________________________________________\n",
            "dropout (Dropout)            (None, 768)               0         \n",
            "_________________________________________________________________\n",
            "dense (Dense)                (None, 768)               590592    \n",
            "_________________________________________________________________\n",
            "dropout_1 (Dropout)          (None, 768)               0         \n",
            "_________________________________________________________________\n",
            "dense_1 (Dense)              (None, 10)                7690      \n",
            "=================================================================\n",
            "Total params: 109,488,394\n",
            "Trainable params: 109,488,394\n",
            "Non-trainable params: 0\n",
            "_________________________________________________________________\n"
          ],
          "name": "stdout"
        }
      ]
    },
    {
      "cell_type": "code",
      "metadata": {
        "id": "flM_SHrZ5Zg3"
      },
      "source": [
        "model.compile(\n",
        "  optimizer=keras.optimizers.Adam(1e-5),\n",
        "  loss=keras.losses.SparseCategoricalCrossentropy(from_logits=True),\n",
        "  metrics=[keras.metrics.SparseCategoricalAccuracy(name=\"acc\")]\n",
        ")"
      ],
      "execution_count": null,
      "outputs": []
    },
    {
      "cell_type": "code",
      "metadata": {
        "colab": {
          "background_save": true,
          "base_uri": "https://localhost:8080/"
        },
        "id": "1SAwSzXR5ZtE",
        "outputId": "e23549d8-e8bd-4dc2-f96e-a059d006821f"
      },
      "source": [
        "log_dir = \"log/intent_detection/\" + datetime.datetime.now().strftime(\"%Y%m%d-%H%M%s\")\n",
        "tensorboard_callback = keras.callbacks.TensorBoard(log_dir=log_dir)\n",
        "\n",
        "history = model.fit(\n",
        "  x=data.train_x, \n",
        "  y=data.train_y,\n",
        "  validation_split=0.1,\n",
        "  batch_size=16,\n",
        "  shuffle=True,\n",
        "  epochs=10,\n",
        "  callbacks=[tensorboard_callback]\n",
        ")"
      ],
      "execution_count": null,
      "outputs": [
        {
          "output_type": "stream",
          "text": [
            "Epoch 1/10\n",
            "119/119 [==============================] - 1593s 13s/step - loss: 2.2074 - acc: 0.2373 - val_loss: 1.7153 - val_acc: 0.3667\n",
            "Epoch 2/10\n",
            "119/119 [==============================] - 1567s 13s/step - loss: 1.8225 - acc: 0.4020 - val_loss: 1.4140 - val_acc: 0.5286\n",
            "Epoch 3/10\n",
            "119/119 [==============================] - 1565s 13s/step - loss: 1.4792 - acc: 0.5272 - val_loss: 1.2089 - val_acc: 0.6048\n",
            "Epoch 4/10\n",
            "119/119 [==============================] - 1566s 13s/step - loss: 1.2871 - acc: 0.5932 - val_loss: 1.0705 - val_acc: 0.6810\n",
            "Epoch 5/10\n",
            "119/119 [==============================] - 1589s 13s/step - loss: 1.1201 - acc: 0.6439 - val_loss: 0.8456 - val_acc: 0.7333\n",
            "Epoch 6/10\n",
            "119/119 [==============================] - 1595s 13s/step - loss: 0.8660 - acc: 0.7153 - val_loss: 0.7914 - val_acc: 0.7619\n",
            "Epoch 7/10\n",
            "119/119 [==============================] - 1588s 13s/step - loss: 0.7742 - acc: 0.7619 - val_loss: 0.7242 - val_acc: 0.8000\n",
            "Epoch 8/10\n",
            "119/119 [==============================] - 1593s 13s/step - loss: 0.6328 - acc: 0.7935 - val_loss: 0.6443 - val_acc: 0.8333\n",
            "Epoch 9/10\n",
            "119/119 [==============================] - 1597s 13s/step - loss: 0.5165 - acc: 0.8301 - val_loss: 0.5844 - val_acc: 0.8476\n",
            "Epoch 10/10\n",
            "119/119 [==============================] - 1591s 13s/step - loss: 0.4073 - acc: 0.8737 - val_loss: 0.6675 - val_acc: 0.8381\n"
          ],
          "name": "stdout"
        }
      ]
    },
    {
      "cell_type": "code",
      "metadata": {
        "colab": {
          "background_save": true
        },
        "id": "bAWuCUARF9f0"
      },
      "source": [
        "##Evaluation\n"
      ],
      "execution_count": null,
      "outputs": []
    },
    {
      "cell_type": "code",
      "metadata": {
        "colab": {
          "background_save": true
        },
        "id": "lFIfkJHmwHEQ",
        "outputId": "c8ec5087-6bc4-4f90-c310-da5751437f3b"
      },
      "source": [
        "ax = plt.figure().gca()\n",
        "ax.xaxis.set_major_locator(MaxNLocator(integer=True))\n",
        "\n",
        "ax.plot(history.history['loss'])\n",
        "ax.plot(history.history['val_loss'])\n",
        "plt.ylabel('Loss')\n",
        "plt.xlabel('Epoch')\n",
        "plt.legend(['train', 'test'])\n",
        "plt.title('Loss over training epochs')\n",
        "plt.show();\n"
      ],
      "execution_count": null,
      "outputs": [
        {
          "output_type": "display_data",
          "data": {
            "image/png": "[encoded data removed]",
            "text/plain": [
              "<Figure size 864x576 with 1 Axes>"
            ]
          },
          "metadata": {
            "tags": [],
            "image/png": {
              "height": 506,
              "width": 740
            }
          }
        }
      ]
    },
    {
      "cell_type": "code",
      "metadata": {
        "colab": {
          "background_save": true
        },
        "id": "gtygHKunwHCO",
        "outputId": "f0eeef0c-b7a7-4992-a705-16ce18e27934"
      },
      "source": [
        "ax = plt.figure().gca()\n",
        "ax.xaxis.set_major_locator(MaxNLocator(integer=True))\n",
        "\n",
        "ax.plot(history.history['acc'])\n",
        "ax.plot(history.history['val_acc'])\n",
        "plt.ylabel('Accuracy')\n",
        "plt.xlabel('Epoch')\n",
        "plt.legend(['train', 'test'])\n",
        "plt.title('Accuracy over training epochs')\n",
        "plt.show();"
      ],
      "execution_count": null,
      "outputs": [
        {
          "output_type": "display_data",
          "data": {
            "image/png": "[encoded data removed]",
            "text/plain": [
              "<Figure size 864x576 with 1 Axes>"
            ]
          },
          "metadata": {
            "tags": [],
            "image/png": {
              "height": 506,
              "width": 732
            }
          }
        }
      ]
    },
    {
      "cell_type": "code",
      "metadata": {
        "id": "QvyaT0L7wG8c",
        "colab": {
          "base_uri": "https://localhost:8080/"
        },
        "outputId": "c15eb30a-091f-4c08-fed8-a9510b60c145"
      },
      "source": [
        "_, train_acc = model.evaluate(data.train_x, data.train_y)\n",
        "_, test_acc = model.evaluate(data.test_x, data.test_y)\n",
        "\n",
        "print(\"train acc\", train_acc)\n",
        "print(\"test acc\", test_acc)"
      ],
      "execution_count": null,
      "outputs": [
        {
          "output_type": "stream",
          "text": [
            "66/66 [==============================] - 501s 8s/step - loss: 0.2173 - acc: 0.9305\n",
            "4/4 [==============================] - 24s 5s/step - loss: 0.3874 - acc: 0.8800\n",
            "train acc 0.930476188659668\n",
            "test acc 0.8799999952316284\n"
          ],
          "name": "stdout"
        }
      ]
    },
    {
      "cell_type": "code",
      "metadata": {
        "colab": {
          "base_uri": "https://localhost:8080/"
        },
        "id": "aOaSq_38MeMv",
        "outputId": "78614678-efde-4076-f01a-3e5674830f33"
      },
      "source": [
        "pip install docx2txt"
      ],
      "execution_count": null,
      "outputs": [
        {
          "output_type": "stream",
          "text": [
            "Collecting docx2txt\n",
            "  Downloading https://files.pythonhosted.org/packages/7d/7d/60ee3f2b16d9bfdfa72e8599470a2c1a5b759cb113c6fe1006be28359327/docx2txt-0.8.tar.gz\n",
            "Building wheels for collected packages: docx2txt\n",
            "  Building wheel for docx2txt (setup.py) ... \u001b[?25l\u001b[?25hdone\n",
            "  Created wheel for docx2txt: filename=docx2txt-0.8-cp36-none-any.whl size=3960 sha256=b71072793e89e300142c1768b13d37ec5764846885b4bbba585dd0c123aeaae0\n",
            "  Stored in directory: /root/.cache/pip/wheels/b2/1f/26/a051209bbb77fc6bcfae2bb7e01fa0ff941b82292ab084d596\n",
            "Successfully built docx2txt\n",
            "Installing collected packages: docx2txt\n",
            "Successfully installed docx2txt-0.8\n"
          ],
          "name": "stdout"
        }
      ]
    },
    {
      "cell_type": "code",
      "metadata": {
        "id": "cr_mz9ctMhK4"
      },
      "source": [
        "import docx2txt"
      ],
      "execution_count": null,
      "outputs": []
    },
    {
      "cell_type": "code",
      "metadata": {
        "colab": {
          "resources": {
            "http://localhost:8080/nbextensions/google.colab/files.js": {
              "data": "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",
              "ok": true,
              "headers": [
                [
                  "content-type",
                  "application/javascript"
                ]
              ],
              "status": 200,
              "status_text": ""
            }
          },
          "base_uri": "https://localhost:8080/",
          "height": 72
        },
        "id": "euwmDm9kMhYj",
        "outputId": "d3639bb3-8ecd-489d-e96f-db4321c0cd46"
      },
      "source": [
        "from google.colab import files\n",
        "uploaded = files.upload()"
      ],
      "execution_count": null,
      "outputs": [
        {
          "output_type": "display_data",
          "data": {
            "text/html": [
              "\n",
              "     <input type=\"file\" id=\"files-1cf48d36-f3eb-4b4a-a598-c03da9d456e6\" name=\"files[]\" multiple disabled\n",
              "        style=\"border:none\" />\n",
              "     <output id=\"result-1cf48d36-f3eb-4b4a-a598-c03da9d456e6\">\n",
              "      Upload widget is only available when the cell has been executed in the\n",
              "      current browser session. Please rerun this cell to enable.\n",
              "      </output>\n",
              "      <script src=\"/nbextensions/google.colab/files.js\"></script> "
            ],
            "text/plain": [
              "<IPython.core.display.HTML object>"
            ]
          },
          "metadata": {
            "tags": []
          }
        },
        {
          "output_type": "stream",
          "text": [
            "Saving job offer.docx to job offer (1).docx\n"
          ],
          "name": "stdout"
        }
      ]
    },
    {
      "cell_type": "code",
      "metadata": {
        "id": "_qk60lSqMhl1",
        "colab": {
          "base_uri": "https://localhost:8080/"
        },
        "outputId": "fa08f1b4-5cc1-435b-8b30-0ba63573a6d7"
      },
      "source": [
        "# Store the resume in a variable\n",
        "resume = df['Profile']\n",
        "\n",
        "# Print the resume\n",
        "print(resume)"
      ],
      "execution_count": null,
      "outputs": [
        {
          "output_type": "stream",
          "text": [
            "1238    web designer markup hope enterprise solutions ...\n",
            "292     software development manager amdocs   may july...\n",
            "1777    developer worldline   august  iso unix cisam d...\n",
            "1012    developer worldline   august  iso unix cisam d...\n",
            "1433    web applicatio developer service based compay ...\n",
            "                              ...                        \n",
            "655     angular developer ui developer        angular ...\n",
            "669     ui ui itpd    htmlcsscss javascriptjquery agul...\n",
            "1527    php trs software solutions private limited del...\n",
            "1716    software engineerdata scientist wipro ltd   se...\n",
            "886     ui ui itpd    htmlcsscss javascriptjquery agul...\n",
            "Name: Profile, Length: 2168, dtype: object\n"
          ],
          "name": "stdout"
        }
      ]
    },
    {
      "cell_type": "code",
      "metadata": {
        "id": "W7z2FWhNMhyo"
      },
      "source": [
        "# Store the job description into a variable\n",
        "job_description = docx2txt.process(\"job offer.docx\")\n",
        "\n",
        "# Print the job description\n",
        "job_description=text_normalization1(job_description)"
      ],
      "execution_count": null,
      "outputs": []
    },
    {
      "cell_type": "code",
      "metadata": {
        "id": "14ZLrxaVWpp9"
      },
      "source": [
        "df1=df[df['Resume_title']== 'web developement']\n"
      ],
      "execution_count": null,
      "outputs": []
    },
    {
      "cell_type": "code",
      "metadata": {
        "id": "_czepzN6NDcb"
      },
      "source": [
        "from sklearn.feature_extraction.text import CountVectorizer\n",
        "from sklearn.metrics.pairwise import cosine_similarity\n",
        "\n"
      ],
      "execution_count": null,
      "outputs": []
    },
    {
      "cell_type": "code",
      "metadata": {
        "id": "BXBOZJqDkVAz"
      },
      "source": [
        "def similarity(text):\n",
        "       cv = CountVectorizer(text)\n",
        "\n",
        "       text1 = [text, job_description]\n",
        "       count_matrix = cv.fit_transform(text1)\n",
        "       matchPercentage = cosine_similarity(count_matrix)[0][1] * 100\n",
        "       matchPercentage = round(matchPercentage, 2) # round to two decimal\n",
        "      \n",
        "    \n",
        "       return matchPercentage"
      ],
      "execution_count": null,
      "outputs": []
    },
    {
      "cell_type": "code",
      "metadata": {
        "id": "E3D_rKp5knqN",
        "colab": {
          "base_uri": "https://localhost:8080/"
        },
        "outputId": "c14c681d-4d83-476d-c19a-73f0b2240c32"
      },
      "source": [
        "df1['similarity'] = df1['Profile'].apply(lambda x:similarity(x))"
      ],
      "execution_count": null,
      "outputs": [
        {
          "output_type": "stream",
          "text": [
            "/usr/local/lib/python3.6/dist-packages/ipykernel_launcher.py:1: SettingWithCopyWarning: \n",
            "A value is trying to be set on a copy of a slice from a DataFrame.\n",
            "Try using .loc[row_indexer,col_indexer] = value instead\n",
            "\n",
            "See the caveats in the documentation: https://pandas.pydata.org/pandas-docs/stable/user_guide/indexing.html#returning-a-view-versus-a-copy\n",
            "  \"\"\"Entry point for launching an IPython kernel.\n"
          ],
          "name": "stderr"
        }
      ]
    },
    {
      "cell_type": "code",
      "metadata": {
        "id": "U8Trs2thCmAJ"
      },
      "source": [
        "df2=df1.sort_values(by=['similarity'],ascending=False, na_position='first')\n"
      ],
      "execution_count": null,
      "outputs": []
    },
    {
      "cell_type": "code",
      "metadata": {
        "colab": {
          "base_uri": "https://localhost:8080/",
          "height": 910
        },
        "id": "l90v86AXZXRp",
        "outputId": "8d113154-e311-43c5-d3b3-3a4447d2521c"
      },
      "source": [
        "df2.head(10)"
      ],
      "execution_count": 592,
      "outputs": [
        {
          "output_type": "execute_result",
          "data": {
            "text/html": [
              "<div>\n",
              "<style scoped>\n",
              "    .dataframe tbody tr th:only-of-type {\n",
              "        vertical-align: middle;\n",
              "    }\n",
              "\n",
              "    .dataframe tbody tr th {\n",
              "        vertical-align: top;\n",
              "    }\n",
              "\n",
              "    .dataframe thead th {\n",
              "        text-align: right;\n",
              "    }\n",
              "</style>\n",
              "<table border=\"1\" class=\"dataframe\">\n",
              "  <thead>\n",
              "    <tr style=\"text-align: right;\">\n",
              "      <th></th>\n",
              "      <th>Resume_title</th>\n",
              "      <th>City</th>\n",
              "      <th>State</th>\n",
              "      <th>Description</th>\n",
              "      <th>work_experiences</th>\n",
              "      <th>Educations</th>\n",
              "      <th>Skills</th>\n",
              "      <th>Links</th>\n",
              "      <th>Certificates</th>\n",
              "      <th>Additional Information</th>\n",
              "      <th>Profile</th>\n",
              "      <th>similarity</th>\n",
              "    </tr>\n",
              "  </thead>\n",
              "  <tbody>\n",
              "    <tr>\n",
              "      <th>4</th>\n",
              "      <td>web developement</td>\n",
              "      <td>Hyderabad</td>\n",
              "      <td>Telangana</td>\n",
              "      <td>Skilled Java Developer with 5 years of experie...</td>\n",
              "      <td>Java Developer TechForce Hyderabad Telangana J...</td>\n",
              "      <td>Masters Degree Computer Science Fairleigh Dick...</td>\n",
              "      <td>JAVA VISUAL STUDIO HTML JAVASCRIPT APPLICATION...</td>\n",
              "      <td>['http://www.linkedin.com/in/vanitha-karnati-7...</td>\n",
              "      <td></td>\n",
              "      <td>Skills C JAVA Basic HTML CSS Javascript Framew...</td>\n",
              "      <td>java developer techforce hyderabad telangana j...</td>\n",
              "      <td>47.84</td>\n",
              "    </tr>\n",
              "    <tr>\n",
              "      <th>1287</th>\n",
              "      <td>web developement</td>\n",
              "      <td>Hyderabad</td>\n",
              "      <td>Telangana</td>\n",
              "      <td>Skilled Java Developer with 5 years of experie...</td>\n",
              "      <td>Java Developer TechForce Hyderabad Telangana J...</td>\n",
              "      <td>Masters Degree Computer Science Fairleigh Dick...</td>\n",
              "      <td>JAVA VISUAL STUDIO HTML JAVASCRIPT APPLICATION...</td>\n",
              "      <td>['http://www.linkedin.com/in/vanitha-karnati-7...</td>\n",
              "      <td></td>\n",
              "      <td>Skills C JAVA Basic HTML CSS Javascript Framew...</td>\n",
              "      <td>java developer techforce hyderabad telangana j...</td>\n",
              "      <td>47.84</td>\n",
              "    </tr>\n",
              "    <tr>\n",
              "      <th>2115</th>\n",
              "      <td>web developement</td>\n",
              "      <td>Hyderabad</td>\n",
              "      <td>Telangana</td>\n",
              "      <td>Skilled Java Developer with 5 years of experie...</td>\n",
              "      <td>Java Developer TechForce Hyderabad Telangana J...</td>\n",
              "      <td>Masters Degree Computer Science Fairleigh Dick...</td>\n",
              "      <td>JAVA VISUAL STUDIO HTML JAVASCRIPT APPLICATION...</td>\n",
              "      <td>['http://www.linkedin.com/in/vanitha-karnati-7...</td>\n",
              "      <td></td>\n",
              "      <td>Skills C JAVA Basic HTML CSS Javascript Framew...</td>\n",
              "      <td>java developer techforce hyderabad telangana j...</td>\n",
              "      <td>47.84</td>\n",
              "    </tr>\n",
              "    <tr>\n",
              "      <th>802</th>\n",
              "      <td>web developement</td>\n",
              "      <td>Bengaluru</td>\n",
              "      <td>Karnataka</td>\n",
              "      <td>Address \\nVersatile Front-end Developer with 2...</td>\n",
              "      <td>UI kk Bengaluru Karnataka September  Location ...</td>\n",
              "      <td>BCA Mangalore Mangalore Karnataka   Java Techn...</td>\n",
              "      <td>Html Javascript Bootstrap Css</td>\n",
              "      <td>[]</td>\n",
              "      <td></td>\n",
              "      <td>Communication Skills Ready Quick Learner Inter...</td>\n",
              "      <td>ui kk bengaluru karnataka september  location ...</td>\n",
              "      <td>33.04</td>\n",
              "    </tr>\n",
              "    <tr>\n",
              "      <th>816</th>\n",
              "      <td>web developement</td>\n",
              "      <td>Bengaluru</td>\n",
              "      <td>Karnataka</td>\n",
              "      <td>Address \\nVersatile Front-end Developer with 2...</td>\n",
              "      <td>UI kk Bengaluru Karnataka September  Location ...</td>\n",
              "      <td>BCA Mangalore Mangalore Karnataka   Java Techn...</td>\n",
              "      <td>Html Javascript Bootstrap Css</td>\n",
              "      <td>[]</td>\n",
              "      <td></td>\n",
              "      <td>Communication Skills Ready Quick Learner Inter...</td>\n",
              "      <td>ui kk bengaluru karnataka september  location ...</td>\n",
              "      <td>33.04</td>\n",
              "    </tr>\n",
              "    <tr>\n",
              "      <th>688</th>\n",
              "      <td>web developement</td>\n",
              "      <td>Hyderabad</td>\n",
              "      <td>Telangana</td>\n",
              "      <td>To invest my skills into building a strong car...</td>\n",
              "      <td>Web Developer Designer   September January</td>\n",
              "      <td>Bachelor Science Computer Science Computer Sci...</td>\n",
              "      <td>HTML JAVASCRIPT BOOTSTRAP SASS UI</td>\n",
              "      <td>[]</td>\n",
              "      <td></td>\n",
              "      <td>TECHNICAL SKILLS Systems Windows UI Frameworks...</td>\n",
              "      <td>web developer designer   september januarybach...</td>\n",
              "      <td>29.82</td>\n",
              "    </tr>\n",
              "    <tr>\n",
              "      <th>568</th>\n",
              "      <td>web developement</td>\n",
              "      <td>Bengaluru</td>\n",
              "      <td>Karnataka</td>\n",
              "      <td>Seeking a position to utilize my skills and ab...</td>\n",
              "      <td>Web Application Developer KLogix Srinagar Jamm...</td>\n",
              "      <td>Engineerin Diploma Computer Science Engineerin...</td>\n",
              "      <td>HTML CSS Java Script Bootstrap Photoshop ReactJS</td>\n",
              "      <td>[]</td>\n",
              "      <td>Web Designing October  Six UI Rational Tabs Te...</td>\n",
              "      <td>EXPERTISE SUMMARY Proficient HTML CSS CSS Expe...</td>\n",
              "      <td>web application developer klogix srinagar jamm...</td>\n",
              "      <td>29.27</td>\n",
              "    </tr>\n",
              "    <tr>\n",
              "      <th>1179</th>\n",
              "      <td>web developement</td>\n",
              "      <td>Pune</td>\n",
              "      <td>Maharashtra</td>\n",
              "      <td>To work for an organization which provides me ...</td>\n",
              "      <td>UI Profcyma Pvt Ltd     Software Engineer Kahn...</td>\n",
              "      <td>BE Computer Technology Savitribai Phule Pune U...</td>\n",
              "      <td>Core Java HTML CSS JavaScript Json Angular Typ...</td>\n",
              "      <td>[]</td>\n",
              "      <td></td>\n",
              "      <td>TECHNICAL SKILLS Languages Known C C++ Java HT...</td>\n",
              "      <td>ui profcyma pvt ltd     software engineer kahn...</td>\n",
              "      <td>28.40</td>\n",
              "    </tr>\n",
              "    <tr>\n",
              "      <th>532</th>\n",
              "      <td>web developement</td>\n",
              "      <td>Pune</td>\n",
              "      <td>Maharashtra</td>\n",
              "      <td>To work for an organization which provides me ...</td>\n",
              "      <td>UI Profcyma Pvt Ltd     Software Engineer Kahn...</td>\n",
              "      <td>BE Computer Technology Savitribai Phule Pune U...</td>\n",
              "      <td>Core Java HTML CSS JavaScript Json Angular Typ...</td>\n",
              "      <td>[]</td>\n",
              "      <td></td>\n",
              "      <td>TECHNICAL SKILLS Languages Known C C++ Java HT...</td>\n",
              "      <td>ui profcyma pvt ltd     software engineer kahn...</td>\n",
              "      <td>28.40</td>\n",
              "    </tr>\n",
              "    <tr>\n",
              "      <th>791</th>\n",
              "      <td>web developement</td>\n",
              "      <td>Bengaluru</td>\n",
              "      <td>Karnataka</td>\n",
              "      <td>To work in a growth environment to strive towa...</td>\n",
              "      <td>Web Digicube    HTML CSS JavaScript PHP Web As...</td>\n",
              "      <td>BACHELORS VTU University     July SSLC Vidya P...</td>\n",
              "      <td>C  CSS  DATABASE  HTML  JavaScript  Mysql Php ...</td>\n",
              "      <td>[]</td>\n",
              "      <td></td>\n",
              "      <td>TECHNICAL SKILLS PROGRAMMING LANGUAGES C C++ J...</td>\n",
              "      <td>web digicube    html css javascript php web as...</td>\n",
              "      <td>27.82</td>\n",
              "    </tr>\n",
              "  </tbody>\n",
              "</table>\n",
              "</div>"
            ],
            "text/plain": [
              "          Resume_title  ... similarity\n",
              "4     web developement  ...      47.84\n",
              "1287  web developement  ...      47.84\n",
              "2115  web developement  ...      47.84\n",
              "802   web developement  ...      33.04\n",
              "816   web developement  ...      33.04\n",
              "688   web developement  ...      29.82\n",
              "568   web developement  ...      29.27\n",
              "1179  web developement  ...      28.40\n",
              "532   web developement  ...      28.40\n",
              "791   web developement  ...      27.82\n",
              "\n",
              "[10 rows x 12 columns]"
            ]
          },
          "metadata": {
            "tags": []
          },
          "execution_count": 592
        }
      ]
    },
    {
      "cell_type": "code",
      "metadata": {
        "id": "YndXe4b9l2ar"
      },
      "source": [
        "df2.reset_index(drop=True, inplace=True)\n"
      ],
      "execution_count": 593,
      "outputs": []
    },
    {
      "cell_type": "code",
      "metadata": {
        "id": "8_LMMwgvi-34",
        "colab": {
          "base_uri": "https://localhost:8080/"
        },
        "outputId": "23507534-1cbd-4f85-e169-ad4b62cc8f2e"
      },
      "source": [
        "print(\"Liste des cvs qui vont avec  les  exigences du poste  \")\r\n",
        "\r\n",
        "for i in range (0,5):\r\n",
        "    print(df2[\"Resume_title\"][i],df2['similarity'][i])"
      ],
      "execution_count": 595,
      "outputs": [
        {
          "output_type": "stream",
          "text": [
            "Liste des cvs qui vont avec  les  exigences du poste  \n",
            "web developement 47.84\n",
            "web developement 47.84\n",
            "web developement 47.84\n",
            "web developement 33.04\n",
            "web developement 33.04\n"
          ],
          "name": "stdout"
        }
      ]
    }
  ]
}